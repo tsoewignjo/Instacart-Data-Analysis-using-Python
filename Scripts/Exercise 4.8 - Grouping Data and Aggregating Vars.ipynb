{
 "cells": [
  {
   "cell_type": "markdown",
   "id": "950f2085",
   "metadata": {},
   "source": [
    "#### Python Fundamentals for Data Analysts\n",
    "## 4.8: Grouping Data & Aggregating Variables"
   ]
  },
  {
   "cell_type": "markdown",
   "id": "6e2b9f70",
   "metadata": {},
   "source": [
    "### Content"
   ]
  },
  {
   "cell_type": "markdown",
   "id": "ee86a447",
   "metadata": {},
   "source": [
    "1. Aggregation on average ORDER_NUMBER GroupBy DEPARTMENT_ID\n",
    "2. Aggragation on maximum ORDER_NUMBER GroupBy USER_ID\n",
    "3. Using Transform to assign the new aggregation to a new column\n",
    "4. Create LOYALTY flag based on max order value\n",
    "5. Create Spender Flag to identify Low Spender and High Spender\n",
    "6. Create Order Frequency flag to identify user’s ordering behavior\n",
    "    \n",
    "Different ways to do Aggregation\n",
    "- df_sub.groupby('department_id').agg({'order_number': ['mean']})\n",
    "- df_sub.groupby('department_id')['order_number'].mean()\n",
    "- df_combined['max_order'] = df_combined.groupby(['user_id'])['order_number'].transform(np.max)"
   ]
  },
  {
   "cell_type": "code",
   "execution_count": 1,
   "id": "757b3b12",
   "metadata": {},
   "outputs": [],
   "source": [
    "# Import libraries\n",
    "import numpy as np\n",
    "import pandas as pd\n",
    "import os\n",
    "from datetime import datetime"
   ]
  },
  {
   "cell_type": "code",
   "execution_count": 2,
   "id": "d0492d44",
   "metadata": {},
   "outputs": [],
   "source": [
    "# Set path to access data files & Load data file\n",
    "path = r'C:\\Users\\tsoew\\OneDrive\\Desktop\\InstaCart Basket Analysis'"
   ]
  },
  {
   "cell_type": "code",
   "execution_count": 3,
   "id": "6cd261ab",
   "metadata": {},
   "outputs": [],
   "source": [
    "# Import previous version of ords_prods_combined data\n",
    "df_combined = pd.read_pickle(os.path.join(path, 'Data', 'Prepared Data', 'ord_prod_combined_3.pkl'))"
   ]
  },
  {
   "cell_type": "code",
   "execution_count": 4,
   "id": "46c8dc6e",
   "metadata": {},
   "outputs": [],
   "source": [
    "# Drop unused columns\n",
    "df_combined.drop(axis=1, columns='_merge', inplace=True)"
   ]
  },
  {
   "cell_type": "code",
   "execution_count": 5,
   "id": "cd75059c",
   "metadata": {},
   "outputs": [
    {
     "data": {
      "text/plain": [
       "(32404859, 18)"
      ]
     },
     "execution_count": 5,
     "metadata": {},
     "output_type": "execute_result"
    }
   ],
   "source": [
    "# Check the shape of the data\n",
    "df_combined.shape"
   ]
  },
  {
   "cell_type": "code",
   "execution_count": 6,
   "id": "a874e917",
   "metadata": {},
   "outputs": [],
   "source": [
    "# Create a subset of the dataframe\n",
    "df_sub = df_combined[:1000000]"
   ]
  },
  {
   "cell_type": "markdown",
   "id": "cc70c4c3",
   "metadata": {},
   "source": [
    "### Perform Aggregation using GROUPBY"
   ]
  },
  {
   "cell_type": "markdown",
   "id": "e4105df3",
   "metadata": {},
   "source": [
    "#### Step 1: Aggregation on average ORDER_NUMBER GroupBy DEPARTMENT_ID"
   ]
  },
  {
   "cell_type": "code",
   "execution_count": 7,
   "id": "19874ee8",
   "metadata": {},
   "outputs": [
    {
     "data": {
      "text/html": [
       "<div>\n",
       "<style scoped>\n",
       "    .dataframe tbody tr th:only-of-type {\n",
       "        vertical-align: middle;\n",
       "    }\n",
       "\n",
       "    .dataframe tbody tr th {\n",
       "        vertical-align: top;\n",
       "    }\n",
       "\n",
       "    .dataframe thead tr th {\n",
       "        text-align: left;\n",
       "    }\n",
       "\n",
       "    .dataframe thead tr:last-of-type th {\n",
       "        text-align: right;\n",
       "    }\n",
       "</style>\n",
       "<table border=\"1\" class=\"dataframe\">\n",
       "  <thead>\n",
       "    <tr>\n",
       "      <th></th>\n",
       "      <th>order_number</th>\n",
       "    </tr>\n",
       "    <tr>\n",
       "      <th></th>\n",
       "      <th>mean</th>\n",
       "    </tr>\n",
       "    <tr>\n",
       "      <th>department_id</th>\n",
       "      <th></th>\n",
       "    </tr>\n",
       "  </thead>\n",
       "  <tbody>\n",
       "    <tr>\n",
       "      <th>1</th>\n",
       "      <td>15.577493</td>\n",
       "    </tr>\n",
       "    <tr>\n",
       "      <th>2</th>\n",
       "      <td>17.320781</td>\n",
       "    </tr>\n",
       "    <tr>\n",
       "      <th>3</th>\n",
       "      <td>16.084944</td>\n",
       "    </tr>\n",
       "    <tr>\n",
       "      <th>4</th>\n",
       "      <td>17.530458</td>\n",
       "    </tr>\n",
       "    <tr>\n",
       "      <th>5</th>\n",
       "      <td>14.763075</td>\n",
       "    </tr>\n",
       "    <tr>\n",
       "      <th>6</th>\n",
       "      <td>16.658449</td>\n",
       "    </tr>\n",
       "    <tr>\n",
       "      <th>7</th>\n",
       "      <td>17.031590</td>\n",
       "    </tr>\n",
       "    <tr>\n",
       "      <th>8</th>\n",
       "      <td>15.076662</td>\n",
       "    </tr>\n",
       "    <tr>\n",
       "      <th>9</th>\n",
       "      <td>15.447580</td>\n",
       "    </tr>\n",
       "    <tr>\n",
       "      <th>10</th>\n",
       "      <td>18.681852</td>\n",
       "    </tr>\n",
       "    <tr>\n",
       "      <th>11</th>\n",
       "      <td>15.447411</td>\n",
       "    </tr>\n",
       "    <tr>\n",
       "      <th>12</th>\n",
       "      <td>14.327957</td>\n",
       "    </tr>\n",
       "    <tr>\n",
       "      <th>13</th>\n",
       "      <td>16.548642</td>\n",
       "    </tr>\n",
       "    <tr>\n",
       "      <th>14</th>\n",
       "      <td>16.960241</td>\n",
       "    </tr>\n",
       "    <tr>\n",
       "      <th>15</th>\n",
       "      <td>16.121948</td>\n",
       "    </tr>\n",
       "    <tr>\n",
       "      <th>16</th>\n",
       "      <td>17.803851</td>\n",
       "    </tr>\n",
       "    <tr>\n",
       "      <th>17</th>\n",
       "      <td>15.593633</td>\n",
       "    </tr>\n",
       "    <tr>\n",
       "      <th>18</th>\n",
       "      <td>19.674252</td>\n",
       "    </tr>\n",
       "    <tr>\n",
       "      <th>19</th>\n",
       "      <td>16.899756</td>\n",
       "    </tr>\n",
       "    <tr>\n",
       "      <th>20</th>\n",
       "      <td>16.255442</td>\n",
       "    </tr>\n",
       "    <tr>\n",
       "      <th>21</th>\n",
       "      <td>25.535479</td>\n",
       "    </tr>\n",
       "  </tbody>\n",
       "</table>\n",
       "</div>"
      ],
      "text/plain": [
       "              order_number\n",
       "                      mean\n",
       "department_id             \n",
       "1                15.577493\n",
       "2                17.320781\n",
       "3                16.084944\n",
       "4                17.530458\n",
       "5                14.763075\n",
       "6                16.658449\n",
       "7                17.031590\n",
       "8                15.076662\n",
       "9                15.447580\n",
       "10               18.681852\n",
       "11               15.447411\n",
       "12               14.327957\n",
       "13               16.548642\n",
       "14               16.960241\n",
       "15               16.121948\n",
       "16               17.803851\n",
       "17               15.593633\n",
       "18               19.674252\n",
       "19               16.899756\n",
       "20               16.255442\n",
       "21               25.535479"
      ]
     },
     "execution_count": 7,
     "metadata": {},
     "output_type": "execute_result"
    }
   ],
   "source": [
    "# Perform aggregation on SUBSET dataframe for AVERAGE order_number GROUPED by department_id\n",
    "df_sub.groupby('department_id').agg({'order_number': ['mean']})\n",
    "\n",
    "# In SQL would be: \n",
    "# SELECT AVG(order_number)\n",
    "# GROUPBY department_id"
   ]
  },
  {
   "cell_type": "code",
   "execution_count": 8,
   "id": "80e087b3",
   "metadata": {},
   "outputs": [
    {
     "data": {
      "text/html": [
       "<div>\n",
       "<style scoped>\n",
       "    .dataframe tbody tr th:only-of-type {\n",
       "        vertical-align: middle;\n",
       "    }\n",
       "\n",
       "    .dataframe tbody tr th {\n",
       "        vertical-align: top;\n",
       "    }\n",
       "\n",
       "    .dataframe thead tr th {\n",
       "        text-align: left;\n",
       "    }\n",
       "\n",
       "    .dataframe thead tr:last-of-type th {\n",
       "        text-align: right;\n",
       "    }\n",
       "</style>\n",
       "<table border=\"1\" class=\"dataframe\">\n",
       "  <thead>\n",
       "    <tr>\n",
       "      <th></th>\n",
       "      <th>order_number</th>\n",
       "    </tr>\n",
       "    <tr>\n",
       "      <th></th>\n",
       "      <th>mean</th>\n",
       "    </tr>\n",
       "    <tr>\n",
       "      <th>department_id</th>\n",
       "      <th></th>\n",
       "    </tr>\n",
       "  </thead>\n",
       "  <tbody>\n",
       "    <tr>\n",
       "      <th>1</th>\n",
       "      <td>15.457838</td>\n",
       "    </tr>\n",
       "    <tr>\n",
       "      <th>2</th>\n",
       "      <td>17.277920</td>\n",
       "    </tr>\n",
       "    <tr>\n",
       "      <th>3</th>\n",
       "      <td>17.170395</td>\n",
       "    </tr>\n",
       "    <tr>\n",
       "      <th>4</th>\n",
       "      <td>17.811403</td>\n",
       "    </tr>\n",
       "    <tr>\n",
       "      <th>5</th>\n",
       "      <td>15.215751</td>\n",
       "    </tr>\n",
       "    <tr>\n",
       "      <th>6</th>\n",
       "      <td>16.439806</td>\n",
       "    </tr>\n",
       "    <tr>\n",
       "      <th>7</th>\n",
       "      <td>17.225802</td>\n",
       "    </tr>\n",
       "    <tr>\n",
       "      <th>8</th>\n",
       "      <td>15.340650</td>\n",
       "    </tr>\n",
       "    <tr>\n",
       "      <th>9</th>\n",
       "      <td>15.895474</td>\n",
       "    </tr>\n",
       "    <tr>\n",
       "      <th>10</th>\n",
       "      <td>20.197148</td>\n",
       "    </tr>\n",
       "    <tr>\n",
       "      <th>11</th>\n",
       "      <td>16.170638</td>\n",
       "    </tr>\n",
       "    <tr>\n",
       "      <th>12</th>\n",
       "      <td>15.887671</td>\n",
       "    </tr>\n",
       "    <tr>\n",
       "      <th>13</th>\n",
       "      <td>16.583536</td>\n",
       "    </tr>\n",
       "    <tr>\n",
       "      <th>14</th>\n",
       "      <td>16.773669</td>\n",
       "    </tr>\n",
       "    <tr>\n",
       "      <th>15</th>\n",
       "      <td>16.165037</td>\n",
       "    </tr>\n",
       "    <tr>\n",
       "      <th>16</th>\n",
       "      <td>17.665606</td>\n",
       "    </tr>\n",
       "    <tr>\n",
       "      <th>17</th>\n",
       "      <td>15.694469</td>\n",
       "    </tr>\n",
       "    <tr>\n",
       "      <th>18</th>\n",
       "      <td>19.310397</td>\n",
       "    </tr>\n",
       "    <tr>\n",
       "      <th>19</th>\n",
       "      <td>17.177343</td>\n",
       "    </tr>\n",
       "    <tr>\n",
       "      <th>20</th>\n",
       "      <td>16.473447</td>\n",
       "    </tr>\n",
       "    <tr>\n",
       "      <th>21</th>\n",
       "      <td>22.902379</td>\n",
       "    </tr>\n",
       "  </tbody>\n",
       "</table>\n",
       "</div>"
      ],
      "text/plain": [
       "              order_number\n",
       "                      mean\n",
       "department_id             \n",
       "1                15.457838\n",
       "2                17.277920\n",
       "3                17.170395\n",
       "4                17.811403\n",
       "5                15.215751\n",
       "6                16.439806\n",
       "7                17.225802\n",
       "8                15.340650\n",
       "9                15.895474\n",
       "10               20.197148\n",
       "11               16.170638\n",
       "12               15.887671\n",
       "13               16.583536\n",
       "14               16.773669\n",
       "15               16.165037\n",
       "16               17.665606\n",
       "17               15.694469\n",
       "18               19.310397\n",
       "19               17.177343\n",
       "20               16.473447\n",
       "21               22.902379"
      ]
     },
     "execution_count": 8,
     "metadata": {},
     "output_type": "execute_result"
    }
   ],
   "source": [
    "# Perform a aggregation on ENTIRE dataframe for AVERAGE order_number GROUPED by department_id\n",
    "df_combined.groupby('department_id').agg({'order_number': ['mean']})"
   ]
  },
  {
   "cell_type": "markdown",
   "id": "bb3f3e65",
   "metadata": {},
   "source": [
    "**Note** There is a slightly different result between the subset and the entire dataframe calculation on the aggregation of department_id.\n",
    "But the difference is not that big and mostly fall within 10% of the first data."
   ]
  },
  {
   "cell_type": "code",
   "execution_count": 9,
   "id": "f8c4447c",
   "metadata": {},
   "outputs": [],
   "source": [
    "# Different way to achieve the same result\n",
    "# df_sub.groupby('department_id')['order_number'].mean()"
   ]
  },
  {
   "cell_type": "markdown",
   "id": "2a10f5a9",
   "metadata": {},
   "source": [
    "#### Step 2: Aggragation on maximum ORDER_NUMBER GroupBy USER_ID"
   ]
  },
  {
   "cell_type": "code",
   "execution_count": 10,
   "id": "f153031f",
   "metadata": {},
   "outputs": [
    {
     "data": {
      "text/html": [
       "<div>\n",
       "<style scoped>\n",
       "    .dataframe tbody tr th:only-of-type {\n",
       "        vertical-align: middle;\n",
       "    }\n",
       "\n",
       "    .dataframe tbody tr th {\n",
       "        vertical-align: top;\n",
       "    }\n",
       "\n",
       "    .dataframe thead tr th {\n",
       "        text-align: left;\n",
       "    }\n",
       "\n",
       "    .dataframe thead tr:last-of-type th {\n",
       "        text-align: right;\n",
       "    }\n",
       "</style>\n",
       "<table border=\"1\" class=\"dataframe\">\n",
       "  <thead>\n",
       "    <tr>\n",
       "      <th></th>\n",
       "      <th>order_number</th>\n",
       "    </tr>\n",
       "    <tr>\n",
       "      <th></th>\n",
       "      <th>max</th>\n",
       "    </tr>\n",
       "    <tr>\n",
       "      <th>user_id</th>\n",
       "      <th></th>\n",
       "    </tr>\n",
       "  </thead>\n",
       "  <tbody>\n",
       "    <tr>\n",
       "      <th>1</th>\n",
       "      <td>10</td>\n",
       "    </tr>\n",
       "    <tr>\n",
       "      <th>2</th>\n",
       "      <td>14</td>\n",
       "    </tr>\n",
       "    <tr>\n",
       "      <th>3</th>\n",
       "      <td>10</td>\n",
       "    </tr>\n",
       "    <tr>\n",
       "      <th>4</th>\n",
       "      <td>3</td>\n",
       "    </tr>\n",
       "    <tr>\n",
       "      <th>7</th>\n",
       "      <td>3</td>\n",
       "    </tr>\n",
       "    <tr>\n",
       "      <th>...</th>\n",
       "      <td>...</td>\n",
       "    </tr>\n",
       "    <tr>\n",
       "      <th>206204</th>\n",
       "      <td>2</td>\n",
       "    </tr>\n",
       "    <tr>\n",
       "      <th>206206</th>\n",
       "      <td>36</td>\n",
       "    </tr>\n",
       "    <tr>\n",
       "      <th>206207</th>\n",
       "      <td>5</td>\n",
       "    </tr>\n",
       "    <tr>\n",
       "      <th>206208</th>\n",
       "      <td>49</td>\n",
       "    </tr>\n",
       "    <tr>\n",
       "      <th>206209</th>\n",
       "      <td>7</td>\n",
       "    </tr>\n",
       "  </tbody>\n",
       "</table>\n",
       "<p>151325 rows × 1 columns</p>\n",
       "</div>"
      ],
      "text/plain": [
       "        order_number\n",
       "                 max\n",
       "user_id             \n",
       "1                 10\n",
       "2                 14\n",
       "3                 10\n",
       "4                  3\n",
       "7                  3\n",
       "...              ...\n",
       "206204             2\n",
       "206206            36\n",
       "206207             5\n",
       "206208            49\n",
       "206209             7\n",
       "\n",
       "[151325 rows x 1 columns]"
      ]
     },
     "execution_count": 10,
     "metadata": {},
     "output_type": "execute_result"
    }
   ],
   "source": [
    "# Perform aggragation on SUBSET dataframe for MAXIMUM order_number GROUPED by user_id\n",
    "df_sub.groupby('user_id').agg({'order_number': ['max']})"
   ]
  },
  {
   "cell_type": "markdown",
   "id": "eee5b917",
   "metadata": {},
   "source": [
    "#### Step 3: Using Transform  to assign the new aggregation to a new column"
   ]
  },
  {
   "cell_type": "code",
   "execution_count": 11,
   "id": "ca66d654",
   "metadata": {},
   "outputs": [
    {
     "name": "stderr",
     "output_type": "stream",
     "text": [
      "C:\\Users\\tsoew\\AppData\\Local\\Temp\\ipykernel_10948\\1263093511.py:2: FutureWarning: The provided callable <function amax at 0x0000017AA96BDB20> is currently using SeriesGroupBy.max. In a future version of pandas, the provided callable will be used directly. To keep current behavior pass the string \"max\" instead.\n",
      "  df_combined['max_order'] = df_combined.groupby(['user_id'])['order_number'].transform(np.max)\n"
     ]
    }
   ],
   "source": [
    "# Use transform function to assign the new result on max_order column\n",
    "df_combined['max_order'] = df_combined.groupby(['user_id'])['order_number'].transform(np.max)\n"
   ]
  },
  {
   "cell_type": "markdown",
   "id": "31cd8b44",
   "metadata": {},
   "source": [
    "#### Step 4: Create LOYALTY flag based on max order value"
   ]
  },
  {
   "cell_type": "code",
   "execution_count": 12,
   "id": "a9115438",
   "metadata": {},
   "outputs": [],
   "source": [
    "# Use the loc function to assign labels to the new column\n",
    "df_combined.loc[df_combined['max_order'] > 40, 'loyalty_flag'] = 'Loyal customer'\n",
    "df_combined.loc[(df_combined['max_order'] <= 40) & (df_combined['max_order'] > 10), 'loyalty_flag'] = 'Regular customer'\n",
    "df_combined.loc[df_combined['max_order'] <= 10, 'loyalty_flag'] = 'New customer'"
   ]
  },
  {
   "cell_type": "code",
   "execution_count": 13,
   "id": "4f652baf",
   "metadata": {},
   "outputs": [
    {
     "data": {
      "text/plain": [
       "loyalty_flag\n",
       "Regular customer    15876776\n",
       "Loyal customer      10284093\n",
       "New customer         6243990\n",
       "Name: count, dtype: int64"
      ]
     },
     "execution_count": 13,
     "metadata": {},
     "output_type": "execute_result"
    }
   ],
   "source": [
    "# Check data frequencymax_order\n",
    "df_combined['loyalty_flag'].value_counts()"
   ]
  },
  {
   "cell_type": "code",
   "execution_count": 14,
   "id": "0c628db6",
   "metadata": {},
   "outputs": [
    {
     "data": {
      "text/html": [
       "<div>\n",
       "<style scoped>\n",
       "    .dataframe tbody tr th:only-of-type {\n",
       "        vertical-align: middle;\n",
       "    }\n",
       "\n",
       "    .dataframe tbody tr th {\n",
       "        vertical-align: top;\n",
       "    }\n",
       "\n",
       "    .dataframe thead tr th {\n",
       "        text-align: left;\n",
       "    }\n",
       "\n",
       "    .dataframe thead tr:last-of-type th {\n",
       "        text-align: right;\n",
       "    }\n",
       "</style>\n",
       "<table border=\"1\" class=\"dataframe\">\n",
       "  <thead>\n",
       "    <tr>\n",
       "      <th></th>\n",
       "      <th colspan=\"3\" halign=\"left\">prices</th>\n",
       "    </tr>\n",
       "    <tr>\n",
       "      <th></th>\n",
       "      <th>max</th>\n",
       "      <th>min</th>\n",
       "      <th>mean</th>\n",
       "    </tr>\n",
       "    <tr>\n",
       "      <th>loyalty_flag</th>\n",
       "      <th></th>\n",
       "      <th></th>\n",
       "      <th></th>\n",
       "    </tr>\n",
       "  </thead>\n",
       "  <tbody>\n",
       "    <tr>\n",
       "      <th>Loyal customer</th>\n",
       "      <td>99999.0</td>\n",
       "      <td>1.0</td>\n",
       "      <td>10.386336</td>\n",
       "    </tr>\n",
       "    <tr>\n",
       "      <th>New customer</th>\n",
       "      <td>99999.0</td>\n",
       "      <td>1.0</td>\n",
       "      <td>13.294670</td>\n",
       "    </tr>\n",
       "    <tr>\n",
       "      <th>Regular customer</th>\n",
       "      <td>99999.0</td>\n",
       "      <td>1.0</td>\n",
       "      <td>12.495717</td>\n",
       "    </tr>\n",
       "  </tbody>\n",
       "</table>\n",
       "</div>"
      ],
      "text/plain": [
       "                   prices                \n",
       "                      max  min       mean\n",
       "loyalty_flag                             \n",
       "Loyal customer    99999.0  1.0  10.386336\n",
       "New customer      99999.0  1.0  13.294670\n",
       "Regular customer  99999.0  1.0  12.495717"
      ]
     },
     "execution_count": 14,
     "metadata": {},
     "output_type": "execute_result"
    }
   ],
   "source": [
    "# Getting basic statistics for prices aggragated by loyalty_flag\n",
    "df_combined.groupby('loyalty_flag').agg({'prices': ['max', 'min', 'mean']})"
   ]
  },
  {
   "cell_type": "markdown",
   "id": "c4f0725d",
   "metadata": {},
   "source": [
    "#### Step 5: Create SPENDER Flag to identify Low Spender and High Spender"
   ]
  },
  {
   "cell_type": "markdown",
   "id": "18217cf4",
   "metadata": {},
   "source": [
    "Create a spending flag for each user based on the average price across all their orders using the following criteria:\n",
    "If the mean of the prices of products purchased by a user is lower than 10, then flag them as a “Low spender.”\n",
    "If the mean of the prices of products purchased by a user is higher than or equal to 10, then flag them as a “High spender.”"
   ]
  },
  {
   "cell_type": "code",
   "execution_count": 15,
   "id": "08081c4b",
   "metadata": {},
   "outputs": [
    {
     "name": "stderr",
     "output_type": "stream",
     "text": [
      "C:\\Users\\tsoew\\AppData\\Local\\Temp\\ipykernel_10948\\988947795.py:2: FutureWarning: The provided callable <function mean at 0x0000017AA96BE840> is currently using SeriesGroupBy.mean. In a future version of pandas, the provided callable will be used directly. To keep current behavior pass the string \"mean\" instead.\n",
      "  df_combined['avg_spend'] = df_combined.groupby(['user_id'])['prices'].transform(np.mean)\n"
     ]
    }
   ],
   "source": [
    "# Use transform function to assign the new result on average spending price for each user\n",
    "df_combined['avg_spend'] = df_combined.groupby(['user_id'])['prices'].transform(np.mean)\n"
   ]
  },
  {
   "cell_type": "code",
   "execution_count": 16,
   "id": "1d8c75fc",
   "metadata": {},
   "outputs": [],
   "source": [
    "# Use the loc function to assign labels to the new column\n",
    "df_combined.loc[df_combined['avg_spend'] >= 10, 'spend_flag'] = 'High spender'\n",
    "df_combined.loc[df_combined['avg_spend'] < 10, 'spend_flag'] = 'Low spender'"
   ]
  },
  {
   "cell_type": "code",
   "execution_count": 17,
   "id": "ab3db4c7",
   "metadata": {},
   "outputs": [
    {
     "data": {
      "text/plain": [
       "spend_flag\n",
       "Low spender     31770614\n",
       "High spender      634245\n",
       "Name: count, dtype: int64"
      ]
     },
     "execution_count": 17,
     "metadata": {},
     "output_type": "execute_result"
    }
   ],
   "source": [
    "df_combined['spend_flag'].value_counts()"
   ]
  },
  {
   "cell_type": "markdown",
   "id": "6a93bf9b",
   "metadata": {},
   "source": [
    "#### Step 6: Create FREQUENCY flag to identify user’s ordering behavior"
   ]
  },
  {
   "cell_type": "markdown",
   "id": "fdb5a77c",
   "metadata": {},
   "source": [
    "In order to send relevant notifications to users within the app (for instance, asking users if they want to buy the same item again), the Instacart team wants you to determine frequent versus non-frequent customers. Create an order frequency flag that marks the regularity of a user’s ordering behavior according to the median in the “days_since_prior_order” column. The criteria for the flag should be as follows:\n",
    "\n",
    "- If the median of “days_since_prior_order” is higher than 20, then the customer should be labeled a “Non-frequent customer.”\n",
    "- If the median is higher than 10 and lower than or equal to 20, then the customer should be labeled a “Regular customer.”\n",
    "- If the median is lower than or equal to 10, then the customer should be labeled a “Frequent customer.”"
   ]
  },
  {
   "cell_type": "code",
   "execution_count": 18,
   "id": "c2905394",
   "metadata": {},
   "outputs": [
    {
     "name": "stderr",
     "output_type": "stream",
     "text": [
      "C:\\Users\\tsoew\\AppData\\Local\\Temp\\ipykernel_10948\\281221813.py:2: FutureWarning: The provided callable <function median at 0x0000017AA97FB740> is currently using SeriesGroupBy.median. In a future version of pandas, the provided callable will be used directly. To keep current behavior pass the string \"median\" instead.\n",
      "  df_combined['median_order_day'] = df_combined.groupby(['user_id'])['days_since_prior_order'].transform(np.median)\n"
     ]
    }
   ],
   "source": [
    "# Use transform function to get the median days_since_prior_order for each user\n",
    "df_combined['median_order_day'] = df_combined.groupby(['user_id'])['days_since_prior_order'].transform(np.median)\n"
   ]
  },
  {
   "cell_type": "code",
   "execution_count": 19,
   "id": "86918bd7",
   "metadata": {},
   "outputs": [],
   "source": [
    "# Apply the condition to identify customer frequency\n",
    "df_combined.loc[df_combined['median_order_day'] > 20, 'freq_customer'] = 'Non-frequent customer'\n",
    "df_combined.loc[(df_combined['median_order_day'] > 10) & (df_combined['median_order_day'] <= 20), 'freq_customer'] = 'Regular customer'\n",
    "df_combined.loc[df_combined['median_order_day'] <= 10, 'freq_customer'] = 'Frequent customer'"
   ]
  },
  {
   "cell_type": "code",
   "execution_count": 20,
   "id": "26ebd40c",
   "metadata": {},
   "outputs": [
    {
     "data": {
      "text/plain": [
       "freq_customer\n",
       "Frequent customer        21559853\n",
       "Regular customer          7208564\n",
       "Non-frequent customer     3636437\n",
       "nan                             5\n",
       "Name: count, dtype: int64"
      ]
     },
     "execution_count": 20,
     "metadata": {},
     "output_type": "execute_result"
    }
   ],
   "source": [
    "df_combined ['freq_customer'].value_counts()"
   ]
  },
  {
   "cell_type": "code",
   "execution_count": 21,
   "id": "dff9bdb4",
   "metadata": {},
   "outputs": [
    {
     "data": {
      "text/plain": [
       "(32404859, 24)"
      ]
     },
     "execution_count": 21,
     "metadata": {},
     "output_type": "execute_result"
    }
   ],
   "source": [
    "df_combined.shape"
   ]
  },
  {
   "cell_type": "code",
   "execution_count": 22,
   "id": "f348537d",
   "metadata": {},
   "outputs": [
    {
     "name": "stdout",
     "output_type": "stream",
     "text": [
      "Start time: 13:50:09\n",
      "End time: 13:50:52\n"
     ]
    }
   ],
   "source": [
    "# Now export the updated dataframe to a pkl file, and name it orders_products_combined_ver4.pkl\n",
    "\n",
    "print ('Start time: ' + datetime.now().strftime(\"%H:%M:%S\"))\n",
    "df_combined.to_pickle(os.path.join(path, 'Data','Prepared Data', 'ord_prod_combined_4.pkl'))\n",
    "print ('End time: ' + datetime.now().strftime(\"%H:%M:%S\"))"
   ]
  },
  {
   "cell_type": "markdown",
   "id": "764e7910",
   "metadata": {},
   "source": [
    "# The End"
   ]
  }
 ],
 "metadata": {
  "kernelspec": {
   "display_name": "Python 3 (ipykernel)",
   "language": "python",
   "name": "python3"
  },
  "language_info": {
   "codemirror_mode": {
    "name": "ipython",
    "version": 3
   },
   "file_extension": ".py",
   "mimetype": "text/x-python",
   "name": "python",
   "nbconvert_exporter": "python",
   "pygments_lexer": "ipython3",
   "version": "3.11.5"
  }
 },
 "nbformat": 4,
 "nbformat_minor": 5
}
