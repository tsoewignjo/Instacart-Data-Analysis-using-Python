{
 "cells": [
  {
   "cell_type": "markdown",
   "id": "bc564b2a",
   "metadata": {},
   "source": [
    "### Python Fundamentals for Data Analysts\n",
    "# Exercise 4.10: Customer Profiling: Age & Married Status"
   ]
  },
  {
   "cell_type": "markdown",
   "id": "495b5e5c",
   "metadata": {},
   "source": [
    "### Part B"
   ]
  },
  {
   "cell_type": "markdown",
   "id": "47f05c60",
   "metadata": {},
   "source": [
    "**Content:**\n",
    "    \n",
    "1. Customer profiling based on age, income, department_id, and number of dependents <br>\n",
    "2. Profiling #1: Income Level & Spending Habit <br>\n",
    "3. Profiling #2: Age and Married status <br>\n",
    "4. Scatterplot for average spending on customer profiles <br>\n",
    "5. Compare customer profiles with regions <br>\n",
    "6. Comparing customer profiles with departments <br>\n",
    "7. Aggregate the max, mean, and min variables on a customer-profile level \n",
    "        for usage frequency and expenditure\n",
    "    "
   ]
  },
  {
   "cell_type": "code",
   "execution_count": 1,
   "id": "be5abf4a",
   "metadata": {},
   "outputs": [],
   "source": [
    "import pandas as pd\n",
    "import numpy as np\n",
    "import os\n",
    "import matplotlib.pyplot as plt\n",
    "import seaborn as sns\n",
    "import scipy\n",
    "from datetime import datetime"
   ]
  },
  {
   "cell_type": "code",
   "execution_count": null,
   "id": "c8a60166",
   "metadata": {},
   "outputs": [],
   "source": [
    "print('------------------------------------------------')\n",
    "print('Start time: ' + datetime.now().strftime(\"%H:%M:%S\"))\n",
    "print('------------------------------------------------')"
   ]
  },
  {
   "cell_type": "code",
   "execution_count": 2,
   "id": "914b3980",
   "metadata": {},
   "outputs": [],
   "source": [
    "# Set path to access data files\n",
    "path = r'C:\\Users\\tsoew\\OneDrive\\Desktop\\InstaCart Basket Analysis'"
   ]
  },
  {
   "cell_type": "code",
   "execution_count": 3,
   "id": "00fa5e92",
   "metadata": {},
   "outputs": [],
   "source": [
    "# Import latest version of ords_prods_combined data\n",
    "df = pd.read_pickle(os.path.join(path, 'Data', 'Prepared Data', 'ord_prod_dept.pkl'))"
   ]
  },
  {
   "cell_type": "code",
   "execution_count": 4,
   "id": "960dd8e5",
   "metadata": {},
   "outputs": [
    {
     "data": {
      "text/plain": [
       "(30964564, 37)"
      ]
     },
     "execution_count": 4,
     "metadata": {},
     "output_type": "execute_result"
    }
   ],
   "source": [
    "df.shape"
   ]
  },
  {
   "cell_type": "code",
   "execution_count": 5,
   "id": "8ed97a65",
   "metadata": {},
   "outputs": [
    {
     "data": {
      "text/html": [
       "<div>\n",
       "<style scoped>\n",
       "    .dataframe tbody tr th:only-of-type {\n",
       "        vertical-align: middle;\n",
       "    }\n",
       "\n",
       "    .dataframe tbody tr th {\n",
       "        vertical-align: top;\n",
       "    }\n",
       "\n",
       "    .dataframe thead th {\n",
       "        text-align: right;\n",
       "    }\n",
       "</style>\n",
       "<table border=\"1\" class=\"dataframe\">\n",
       "  <thead>\n",
       "    <tr style=\"text-align: right;\">\n",
       "      <th></th>\n",
       "      <th>product_id</th>\n",
       "      <th>product_name</th>\n",
       "      <th>aisle_id</th>\n",
       "      <th>department_id</th>\n",
       "      <th>prices</th>\n",
       "      <th>order_id</th>\n",
       "      <th>user_id</th>\n",
       "      <th>order_number</th>\n",
       "      <th>orders_day_of_week</th>\n",
       "      <th>order_hour_of_day</th>\n",
       "      <th>...</th>\n",
       "      <th>state</th>\n",
       "      <th>age</th>\n",
       "      <th>date_join</th>\n",
       "      <th>dependents</th>\n",
       "      <th>married</th>\n",
       "      <th>income</th>\n",
       "      <th>region</th>\n",
       "      <th>activity_flag</th>\n",
       "      <th>income_flag</th>\n",
       "      <th>sum_per_order</th>\n",
       "    </tr>\n",
       "  </thead>\n",
       "  <tbody>\n",
       "    <tr>\n",
       "      <th>0</th>\n",
       "      <td>1</td>\n",
       "      <td>Chocolate Sandwich Cookies</td>\n",
       "      <td>61</td>\n",
       "      <td>19</td>\n",
       "      <td>5.8</td>\n",
       "      <td>3139998</td>\n",
       "      <td>138</td>\n",
       "      <td>28</td>\n",
       "      <td>6</td>\n",
       "      <td>11</td>\n",
       "      <td>...</td>\n",
       "      <td>Minnesota</td>\n",
       "      <td>81</td>\n",
       "      <td>8/1/2019</td>\n",
       "      <td>1</td>\n",
       "      <td>married</td>\n",
       "      <td>49620</td>\n",
       "      <td>Region_2</td>\n",
       "      <td>High-activity</td>\n",
       "      <td>Low income</td>\n",
       "      <td>34.9</td>\n",
       "    </tr>\n",
       "    <tr>\n",
       "      <th>1</th>\n",
       "      <td>1</td>\n",
       "      <td>Chocolate Sandwich Cookies</td>\n",
       "      <td>61</td>\n",
       "      <td>19</td>\n",
       "      <td>5.8</td>\n",
       "      <td>1977647</td>\n",
       "      <td>138</td>\n",
       "      <td>30</td>\n",
       "      <td>6</td>\n",
       "      <td>17</td>\n",
       "      <td>...</td>\n",
       "      <td>Minnesota</td>\n",
       "      <td>81</td>\n",
       "      <td>8/1/2019</td>\n",
       "      <td>1</td>\n",
       "      <td>married</td>\n",
       "      <td>49620</td>\n",
       "      <td>Region_2</td>\n",
       "      <td>High-activity</td>\n",
       "      <td>Low income</td>\n",
       "      <td>33.9</td>\n",
       "    </tr>\n",
       "    <tr>\n",
       "      <th>2</th>\n",
       "      <td>907</td>\n",
       "      <td>Premium Sliced Bacon</td>\n",
       "      <td>106</td>\n",
       "      <td>12</td>\n",
       "      <td>20.0</td>\n",
       "      <td>3160996</td>\n",
       "      <td>138</td>\n",
       "      <td>1</td>\n",
       "      <td>5</td>\n",
       "      <td>13</td>\n",
       "      <td>...</td>\n",
       "      <td>Minnesota</td>\n",
       "      <td>81</td>\n",
       "      <td>8/1/2019</td>\n",
       "      <td>1</td>\n",
       "      <td>married</td>\n",
       "      <td>49620</td>\n",
       "      <td>Region_2</td>\n",
       "      <td>High-activity</td>\n",
       "      <td>Low income</td>\n",
       "      <td>78.8</td>\n",
       "    </tr>\n",
       "    <tr>\n",
       "      <th>3</th>\n",
       "      <td>907</td>\n",
       "      <td>Premium Sliced Bacon</td>\n",
       "      <td>106</td>\n",
       "      <td>12</td>\n",
       "      <td>20.0</td>\n",
       "      <td>2254091</td>\n",
       "      <td>138</td>\n",
       "      <td>10</td>\n",
       "      <td>5</td>\n",
       "      <td>14</td>\n",
       "      <td>...</td>\n",
       "      <td>Minnesota</td>\n",
       "      <td>81</td>\n",
       "      <td>8/1/2019</td>\n",
       "      <td>1</td>\n",
       "      <td>married</td>\n",
       "      <td>49620</td>\n",
       "      <td>Region_2</td>\n",
       "      <td>High-activity</td>\n",
       "      <td>Low income</td>\n",
       "      <td>50.2</td>\n",
       "    </tr>\n",
       "    <tr>\n",
       "      <th>4</th>\n",
       "      <td>1000</td>\n",
       "      <td>Apricots</td>\n",
       "      <td>18</td>\n",
       "      <td>10</td>\n",
       "      <td>12.9</td>\n",
       "      <td>505689</td>\n",
       "      <td>138</td>\n",
       "      <td>9</td>\n",
       "      <td>6</td>\n",
       "      <td>12</td>\n",
       "      <td>...</td>\n",
       "      <td>Minnesota</td>\n",
       "      <td>81</td>\n",
       "      <td>8/1/2019</td>\n",
       "      <td>1</td>\n",
       "      <td>married</td>\n",
       "      <td>49620</td>\n",
       "      <td>Region_2</td>\n",
       "      <td>High-activity</td>\n",
       "      <td>Low income</td>\n",
       "      <td>40.9</td>\n",
       "    </tr>\n",
       "  </tbody>\n",
       "</table>\n",
       "<p>5 rows × 37 columns</p>\n",
       "</div>"
      ],
      "text/plain": [
       "   product_id                product_name  aisle_id  department_id  prices  \\\n",
       "0           1  Chocolate Sandwich Cookies        61             19     5.8   \n",
       "1           1  Chocolate Sandwich Cookies        61             19     5.8   \n",
       "2         907        Premium Sliced Bacon       106             12    20.0   \n",
       "3         907        Premium Sliced Bacon       106             12    20.0   \n",
       "4        1000                    Apricots        18             10    12.9   \n",
       "\n",
       "   order_id  user_id  order_number  orders_day_of_week  order_hour_of_day  \\\n",
       "0   3139998      138            28                   6                 11   \n",
       "1   1977647      138            30                   6                 17   \n",
       "2   3160996      138             1                   5                 13   \n",
       "3   2254091      138            10                   5                 14   \n",
       "4    505689      138             9                   6                 12   \n",
       "\n",
       "   ...      state  age  date_join dependents  married income    region  \\\n",
       "0  ...  Minnesota   81   8/1/2019          1  married  49620  Region_2   \n",
       "1  ...  Minnesota   81   8/1/2019          1  married  49620  Region_2   \n",
       "2  ...  Minnesota   81   8/1/2019          1  married  49620  Region_2   \n",
       "3  ...  Minnesota   81   8/1/2019          1  married  49620  Region_2   \n",
       "4  ...  Minnesota   81   8/1/2019          1  married  49620  Region_2   \n",
       "\n",
       "   activity_flag  income_flag sum_per_order  \n",
       "0  High-activity   Low income          34.9  \n",
       "1  High-activity   Low income          33.9  \n",
       "2  High-activity   Low income          78.8  \n",
       "3  High-activity   Low income          50.2  \n",
       "4  High-activity   Low income          40.9  \n",
       "\n",
       "[5 rows x 37 columns]"
      ]
     },
     "execution_count": 5,
     "metadata": {},
     "output_type": "execute_result"
    }
   ],
   "source": [
    "df.head()"
   ]
  },
  {
   "cell_type": "markdown",
   "id": "bc538e2a",
   "metadata": {},
   "source": [
    "**Security Implication:** The data now contains customer name, age and income, which are sensitive information to be shared with public. Whenever we release data to public these three columns should be hidden."
   ]
  },
  {
   "cell_type": "markdown",
   "id": "d8868686",
   "metadata": {},
   "source": [
    "### Profiling Age and Married status"
   ]
  },
  {
   "cell_type": "markdown",
   "id": "b78133c3",
   "metadata": {},
   "source": [
    "1. Young Single (< 45 year old, not married or widowed)\n",
    "2. Older Single (>= 45 year old, not married or widowed)\n",
    "3. Young Parents (< 45 year old, > 0 dependent)\n",
    "4. Older Parents (>= 45 year old, > 0 dependent)"
   ]
  },
  {
   "cell_type": "code",
   "execution_count": 6,
   "id": "fa3021ad",
   "metadata": {},
   "outputs": [
    {
     "data": {
      "text/plain": [
       "dependents\n",
       "3    7772516\n",
       "0    7739681\n",
       "2    7733261\n",
       "1    7719106\n",
       "Name: count, dtype: int64"
      ]
     },
     "execution_count": 6,
     "metadata": {},
     "output_type": "execute_result"
    }
   ],
   "source": [
    "# Check column freq\n",
    "df['dependents'].value_counts()"
   ]
  },
  {
   "cell_type": "code",
   "execution_count": 7,
   "id": "cdd6d4e4",
   "metadata": {},
   "outputs": [
    {
     "data": {
      "text/plain": [
       "married\n",
       "married                             21743711\n",
       "single                               5094410\n",
       "divorced/widowed                     2645271\n",
       "living with parents and siblings     1481172\n",
       "Name: count, dtype: int64"
      ]
     },
     "execution_count": 7,
     "metadata": {},
     "output_type": "execute_result"
    }
   ],
   "source": [
    "# Check column freq\n",
    "df['married'].value_counts()"
   ]
  },
  {
   "cell_type": "code",
   "execution_count": 8,
   "id": "b900799f",
   "metadata": {},
   "outputs": [
    {
     "data": {
      "text/plain": [
       "count    3.096456e+07\n",
       "mean     4.946803e+01\n",
       "std      1.848528e+01\n",
       "min      1.800000e+01\n",
       "25%      3.300000e+01\n",
       "50%      4.900000e+01\n",
       "75%      6.500000e+01\n",
       "max      8.100000e+01\n",
       "Name: age, dtype: float64"
      ]
     },
     "execution_count": 8,
     "metadata": {},
     "output_type": "execute_result"
    }
   ],
   "source": [
    "# Check column stat\n",
    "df['age'].describe()"
   ]
  },
  {
   "cell_type": "markdown",
   "id": "d329e201",
   "metadata": {},
   "source": [
    "#### Create Family Profile"
   ]
  },
  {
   "cell_type": "code",
   "execution_count": 9,
   "id": "a1046288",
   "metadata": {},
   "outputs": [],
   "source": [
    "# Use loc function to assign labels to a new column\n",
    "df.loc[(df['age'] <  40) & (df['married'] != 'married'), 'profile'] = 'Young Single'\n",
    "df.loc[(df['age'] >= 40) & (df['married'] != 'married'), 'profile'] = 'Older Single'\n",
    "df.loc[(df['age'] <  40) & (df['dependents'] > 0) , 'profile'] = 'Young Parents'\n",
    "df.loc[(df['age'] >= 40) & (df['dependents'] > 0) , 'profile']  = 'Older Parents'"
   ]
  },
  {
   "cell_type": "code",
   "execution_count": 10,
   "id": "33c2666c",
   "metadata": {},
   "outputs": [
    {
     "data": {
      "text/plain": [
       "profile\n",
       "Older Parents    15220348\n",
       "Young Parents     8004535\n",
       "Older Single      5079106\n",
       "Young Single      2660575\n",
       "Name: count, dtype: int64"
      ]
     },
     "execution_count": 10,
     "metadata": {},
     "output_type": "execute_result"
    }
   ],
   "source": [
    "df['profile'].value_counts()"
   ]
  },
  {
   "cell_type": "code",
   "execution_count": 11,
   "id": "baf52508",
   "metadata": {},
   "outputs": [],
   "source": [
    "# Check income level per profile\n",
    "crosstab = pd.crosstab(df['profile'], df['income_flag'], dropna = False)"
   ]
  },
  {
   "cell_type": "code",
   "execution_count": 12,
   "id": "23c4e0e2",
   "metadata": {},
   "outputs": [
    {
     "data": {
      "text/html": [
       "<div>\n",
       "<style scoped>\n",
       "    .dataframe tbody tr th:only-of-type {\n",
       "        vertical-align: middle;\n",
       "    }\n",
       "\n",
       "    .dataframe tbody tr th {\n",
       "        vertical-align: top;\n",
       "    }\n",
       "\n",
       "    .dataframe thead th {\n",
       "        text-align: right;\n",
       "    }\n",
       "</style>\n",
       "<table border=\"1\" class=\"dataframe\">\n",
       "  <thead>\n",
       "    <tr style=\"text-align: right;\">\n",
       "      <th>income_flag</th>\n",
       "      <th>High income</th>\n",
       "      <th>Low income</th>\n",
       "      <th>Medium income</th>\n",
       "    </tr>\n",
       "    <tr>\n",
       "      <th>profile</th>\n",
       "      <th></th>\n",
       "      <th></th>\n",
       "      <th></th>\n",
       "    </tr>\n",
       "  </thead>\n",
       "  <tbody>\n",
       "    <tr>\n",
       "      <th>Older Parents</th>\n",
       "      <td>2819616</td>\n",
       "      <td>1778336</td>\n",
       "      <td>10622396</td>\n",
       "    </tr>\n",
       "    <tr>\n",
       "      <th>Older Single</th>\n",
       "      <td>972850</td>\n",
       "      <td>581253</td>\n",
       "      <td>3525003</td>\n",
       "    </tr>\n",
       "    <tr>\n",
       "      <th>Young Parents</th>\n",
       "      <td>78445</td>\n",
       "      <td>2578647</td>\n",
       "      <td>5347443</td>\n",
       "    </tr>\n",
       "    <tr>\n",
       "      <th>Young Single</th>\n",
       "      <td>23623</td>\n",
       "      <td>865065</td>\n",
       "      <td>1771887</td>\n",
       "    </tr>\n",
       "  </tbody>\n",
       "</table>\n",
       "</div>"
      ],
      "text/plain": [
       "income_flag    High income  Low income  Medium income\n",
       "profile                                              \n",
       "Older Parents      2819616     1778336       10622396\n",
       "Older Single        972850      581253        3525003\n",
       "Young Parents        78445     2578647        5347443\n",
       "Young Single         23623      865065        1771887"
      ]
     },
     "execution_count": 12,
     "metadata": {},
     "output_type": "execute_result"
    }
   ],
   "source": [
    "crosstab.head()"
   ]
  },
  {
   "cell_type": "code",
   "execution_count": 13,
   "id": "2856c81e",
   "metadata": {},
   "outputs": [],
   "source": [
    "# Check spending level per profile\n",
    "crosstab = pd.crosstab(df['profile'], df['spend_flag'], dropna = False)"
   ]
  },
  {
   "cell_type": "code",
   "execution_count": 14,
   "id": "b1a3a622",
   "metadata": {},
   "outputs": [
    {
     "data": {
      "text/html": [
       "<div>\n",
       "<style scoped>\n",
       "    .dataframe tbody tr th:only-of-type {\n",
       "        vertical-align: middle;\n",
       "    }\n",
       "\n",
       "    .dataframe tbody tr th {\n",
       "        vertical-align: top;\n",
       "    }\n",
       "\n",
       "    .dataframe thead th {\n",
       "        text-align: right;\n",
       "    }\n",
       "</style>\n",
       "<table border=\"1\" class=\"dataframe\">\n",
       "  <thead>\n",
       "    <tr style=\"text-align: right;\">\n",
       "      <th>spend_flag</th>\n",
       "      <th>High spender</th>\n",
       "      <th>Low spender</th>\n",
       "      <th>Medium spender</th>\n",
       "    </tr>\n",
       "    <tr>\n",
       "      <th>profile</th>\n",
       "      <th></th>\n",
       "      <th></th>\n",
       "      <th></th>\n",
       "    </tr>\n",
       "  </thead>\n",
       "  <tbody>\n",
       "    <tr>\n",
       "      <th>Older Parents</th>\n",
       "      <td>4062325</td>\n",
       "      <td>1018265</td>\n",
       "      <td>10139758</td>\n",
       "    </tr>\n",
       "    <tr>\n",
       "      <th>Older Single</th>\n",
       "      <td>1354205</td>\n",
       "      <td>325549</td>\n",
       "      <td>3399352</td>\n",
       "    </tr>\n",
       "    <tr>\n",
       "      <th>Young Parents</th>\n",
       "      <td>2180378</td>\n",
       "      <td>511648</td>\n",
       "      <td>5312509</td>\n",
       "    </tr>\n",
       "    <tr>\n",
       "      <th>Young Single</th>\n",
       "      <td>696372</td>\n",
       "      <td>170210</td>\n",
       "      <td>1793993</td>\n",
       "    </tr>\n",
       "  </tbody>\n",
       "</table>\n",
       "</div>"
      ],
      "text/plain": [
       "spend_flag     High spender  Low spender  Medium spender\n",
       "profile                                                 \n",
       "Older Parents       4062325      1018265        10139758\n",
       "Older Single        1354205       325549         3399352\n",
       "Young Parents       2180378       511648         5312509\n",
       "Young Single         696372       170210         1793993"
      ]
     },
     "execution_count": 14,
     "metadata": {},
     "output_type": "execute_result"
    }
   ],
   "source": [
    "crosstab.head()"
   ]
  },
  {
   "cell_type": "markdown",
   "id": "01daaaf3",
   "metadata": {},
   "source": [
    "### 4.c. Create Scatterplot for average spending on customer profiles"
   ]
  },
  {
   "cell_type": "code",
   "execution_count": 15,
   "id": "9dd20ffb",
   "metadata": {
    "scrolled": true
   },
   "outputs": [
    {
     "data": {
      "text/plain": [
       "Text(0, 0.5, 'Average Spending per Order')"
      ]
     },
     "execution_count": 15,
     "metadata": {},
     "output_type": "execute_result"
    },
    {
     "data": {
      "image/png": "[encoded data removed]",
      "text/plain": [
       "<Figure size 640x480 with 1 Axes>"
      ]
     },
     "metadata": {},
     "output_type": "display_data"
    }
   ],
   "source": [
    "scatter_profile = sns.scatterplot(x = 'profile', y = 'avg_spend',data = df)\n",
    "plt.title('Customer Spending based on Family Profile')\n",
    "plt.xlabel('Family Profile')\n",
    "plt.ylabel('Average Spending per Order')"
   ]
  },
  {
   "cell_type": "markdown",
   "id": "cdd4537c",
   "metadata": {},
   "source": [
    "**Note:** Older parents (age 45 and above with at least 1 dependent) tend to be the highest spenders compared to young parents or singles. \n",
    "This is understandable considering they tend to have higher income and spend extra for the dependents."
   ]
  },
  {
   "cell_type": "code",
   "execution_count": 16,
   "id": "b5c21029",
   "metadata": {},
   "outputs": [],
   "source": [
    "# Save the image into a file\n",
    "scatter_profile.figure.savefig(os.path.join(path, 'Analysis','Visualizations', 'scatter_profile_spending.png'))"
   ]
  },
  {
   "cell_type": "code",
   "execution_count": 17,
   "id": "87d45644",
   "metadata": {},
   "outputs": [
    {
     "data": {
      "text/plain": [
       "Text(0, 0.5, 'Number of customers')"
      ]
     },
     "execution_count": 17,
     "metadata": {},
     "output_type": "execute_result"
    },
    {
     "data": {
      "image/png": "[encoded data removed]",
      "text/plain": [
       "<Figure size 640x480 with 1 Axes>"
      ]
     },
     "metadata": {},
     "output_type": "display_data"
    }
   ],
   "source": [
    "# Create Bar Chart for profile column\n",
    "bar_profile = df['profile'].value_counts().plot.bar()\n",
    "plt.title('Total customers based on Family Profile')\n",
    "plt.xlabel('Family Profile')\n",
    "plt.ylabel('Number of customers')"
   ]
  },
  {
   "cell_type": "markdown",
   "id": "cd8447fa",
   "metadata": {},
   "source": [
    "**Note:** Majority of customers consists of older parents (age above 45 with at least 1 dependent), followed by younger parents and singles"
   ]
  },
  {
   "cell_type": "code",
   "execution_count": 18,
   "id": "39437e07",
   "metadata": {},
   "outputs": [],
   "source": [
    "# Save the image into a file\n",
    "bar_profile.figure.savefig(os.path.join(path, 'Analysis','Visualizations', 'bar_cust_profile.png'))"
   ]
  },
  {
   "cell_type": "markdown",
   "id": "05cf5adb",
   "metadata": {},
   "source": [
    "### 4.d. Compare customer profiles with regions"
   ]
  },
  {
   "cell_type": "code",
   "execution_count": 19,
   "id": "e0f07f39",
   "metadata": {},
   "outputs": [
    {
     "data": {
      "text/html": [
       "<div>\n",
       "<style scoped>\n",
       "    .dataframe tbody tr th:only-of-type {\n",
       "        vertical-align: middle;\n",
       "    }\n",
       "\n",
       "    .dataframe tbody tr th {\n",
       "        vertical-align: top;\n",
       "    }\n",
       "\n",
       "    .dataframe thead th {\n",
       "        text-align: right;\n",
       "    }\n",
       "</style>\n",
       "<table border=\"1\" class=\"dataframe\">\n",
       "  <thead>\n",
       "    <tr style=\"text-align: right;\">\n",
       "      <th>profile</th>\n",
       "      <th>Older Parents</th>\n",
       "      <th>Older Single</th>\n",
       "      <th>Young Parents</th>\n",
       "      <th>Young Single</th>\n",
       "    </tr>\n",
       "    <tr>\n",
       "      <th>region</th>\n",
       "      <th></th>\n",
       "      <th></th>\n",
       "      <th></th>\n",
       "      <th></th>\n",
       "    </tr>\n",
       "  </thead>\n",
       "  <tbody>\n",
       "    <tr>\n",
       "      <th>Region_1</th>\n",
       "      <td>2708627</td>\n",
       "      <td>884321</td>\n",
       "      <td>1401576</td>\n",
       "      <td>470161</td>\n",
       "    </tr>\n",
       "    <tr>\n",
       "      <th>Region_2</th>\n",
       "      <td>3571459</td>\n",
       "      <td>1207053</td>\n",
       "      <td>1867238</td>\n",
       "      <td>615763</td>\n",
       "    </tr>\n",
       "    <tr>\n",
       "      <th>Region_3</th>\n",
       "      <td>5026561</td>\n",
       "      <td>1676331</td>\n",
       "      <td>2702645</td>\n",
       "      <td>905602</td>\n",
       "    </tr>\n",
       "    <tr>\n",
       "      <th>Region_4</th>\n",
       "      <td>3913701</td>\n",
       "      <td>1311401</td>\n",
       "      <td>2033076</td>\n",
       "      <td>669049</td>\n",
       "    </tr>\n",
       "  </tbody>\n",
       "</table>\n",
       "</div>"
      ],
      "text/plain": [
       "profile   Older Parents  Older Single  Young Parents  Young Single\n",
       "region                                                            \n",
       "Region_1        2708627        884321        1401576        470161\n",
       "Region_2        3571459       1207053        1867238        615763\n",
       "Region_3        5026561       1676331        2702645        905602\n",
       "Region_4        3913701       1311401        2033076        669049"
      ]
     },
     "execution_count": 19,
     "metadata": {},
     "output_type": "execute_result"
    }
   ],
   "source": [
    "# Comparing customer profiles with regions\n",
    "crosstab = pd.crosstab(df['region'], df['profile'], dropna = False)\n",
    "crosstab.head()"
   ]
  },
  {
   "cell_type": "markdown",
   "id": "8100c5c2",
   "metadata": {},
   "source": [
    "**Note:** The data shows similar pattern across regions where most customers are older parents and the least is young singles."
   ]
  },
  {
   "cell_type": "markdown",
   "id": "bc708a7f",
   "metadata": {},
   "source": [
    "### 4.e. Comparing customer profiles with departments"
   ]
  },
  {
   "cell_type": "code",
   "execution_count": 20,
   "id": "16c1e324",
   "metadata": {},
   "outputs": [],
   "source": [
    "# Import department.csv\n",
    "df_dept = pd.read_csv(os.path.join(path, 'Data', 'Prepared Data', 'departments_wrangled.csv'), index_col=False)"
   ]
  },
  {
   "cell_type": "code",
   "execution_count": 21,
   "id": "60b63e8a",
   "metadata": {},
   "outputs": [
    {
     "data": {
      "text/html": [
       "<div>\n",
       "<style scoped>\n",
       "    .dataframe tbody tr th:only-of-type {\n",
       "        vertical-align: middle;\n",
       "    }\n",
       "\n",
       "    .dataframe tbody tr th {\n",
       "        vertical-align: top;\n",
       "    }\n",
       "\n",
       "    .dataframe thead th {\n",
       "        text-align: right;\n",
       "    }\n",
       "</style>\n",
       "<table border=\"1\" class=\"dataframe\">\n",
       "  <thead>\n",
       "    <tr style=\"text-align: right;\">\n",
       "      <th></th>\n",
       "      <th>Unnamed: 0</th>\n",
       "      <th>department</th>\n",
       "    </tr>\n",
       "  </thead>\n",
       "  <tbody>\n",
       "    <tr>\n",
       "      <th>0</th>\n",
       "      <td>1</td>\n",
       "      <td>frozen</td>\n",
       "    </tr>\n",
       "    <tr>\n",
       "      <th>1</th>\n",
       "      <td>2</td>\n",
       "      <td>other</td>\n",
       "    </tr>\n",
       "    <tr>\n",
       "      <th>2</th>\n",
       "      <td>3</td>\n",
       "      <td>bakery</td>\n",
       "    </tr>\n",
       "    <tr>\n",
       "      <th>3</th>\n",
       "      <td>4</td>\n",
       "      <td>produce</td>\n",
       "    </tr>\n",
       "    <tr>\n",
       "      <th>4</th>\n",
       "      <td>5</td>\n",
       "      <td>alcohol</td>\n",
       "    </tr>\n",
       "  </tbody>\n",
       "</table>\n",
       "</div>"
      ],
      "text/plain": [
       "   Unnamed: 0 department\n",
       "0           1     frozen\n",
       "1           2      other\n",
       "2           3     bakery\n",
       "3           4    produce\n",
       "4           5    alcohol"
      ]
     },
     "execution_count": 21,
     "metadata": {},
     "output_type": "execute_result"
    }
   ],
   "source": [
    "df_dept.head()"
   ]
  },
  {
   "cell_type": "code",
   "execution_count": 22,
   "id": "e8c1b1d2",
   "metadata": {},
   "outputs": [],
   "source": [
    "# Rename the first column\n",
    "df_dept.rename(columns = {'Unnamed: 0' : 'department_id'}, inplace = True)"
   ]
  },
  {
   "cell_type": "code",
   "execution_count": 23,
   "id": "050c6fd8",
   "metadata": {},
   "outputs": [
    {
     "data": {
      "text/html": [
       "<div>\n",
       "<style scoped>\n",
       "    .dataframe tbody tr th:only-of-type {\n",
       "        vertical-align: middle;\n",
       "    }\n",
       "\n",
       "    .dataframe tbody tr th {\n",
       "        vertical-align: top;\n",
       "    }\n",
       "\n",
       "    .dataframe thead th {\n",
       "        text-align: right;\n",
       "    }\n",
       "</style>\n",
       "<table border=\"1\" class=\"dataframe\">\n",
       "  <thead>\n",
       "    <tr style=\"text-align: right;\">\n",
       "      <th></th>\n",
       "      <th>department_id</th>\n",
       "      <th>department</th>\n",
       "    </tr>\n",
       "  </thead>\n",
       "  <tbody>\n",
       "    <tr>\n",
       "      <th>0</th>\n",
       "      <td>1</td>\n",
       "      <td>frozen</td>\n",
       "    </tr>\n",
       "    <tr>\n",
       "      <th>1</th>\n",
       "      <td>2</td>\n",
       "      <td>other</td>\n",
       "    </tr>\n",
       "    <tr>\n",
       "      <th>2</th>\n",
       "      <td>3</td>\n",
       "      <td>bakery</td>\n",
       "    </tr>\n",
       "    <tr>\n",
       "      <th>3</th>\n",
       "      <td>4</td>\n",
       "      <td>produce</td>\n",
       "    </tr>\n",
       "    <tr>\n",
       "      <th>4</th>\n",
       "      <td>5</td>\n",
       "      <td>alcohol</td>\n",
       "    </tr>\n",
       "  </tbody>\n",
       "</table>\n",
       "</div>"
      ],
      "text/plain": [
       "   department_id department\n",
       "0              1     frozen\n",
       "1              2      other\n",
       "2              3     bakery\n",
       "3              4    produce\n",
       "4              5    alcohol"
      ]
     },
     "execution_count": 23,
     "metadata": {},
     "output_type": "execute_result"
    }
   ],
   "source": [
    "df_dept.head()"
   ]
  },
  {
   "cell_type": "code",
   "execution_count": 24,
   "id": "b9dca4c6",
   "metadata": {},
   "outputs": [],
   "source": [
    "#Merge df with department data\n",
    "df_merged = df.merge(df_dept, on = 'department_id', indicator = True)"
   ]
  },
  {
   "cell_type": "code",
   "execution_count": 25,
   "id": "478e50d1",
   "metadata": {
    "scrolled": true
   },
   "outputs": [
    {
     "data": {
      "text/html": [
       "<div>\n",
       "<style scoped>\n",
       "    .dataframe tbody tr th:only-of-type {\n",
       "        vertical-align: middle;\n",
       "    }\n",
       "\n",
       "    .dataframe tbody tr th {\n",
       "        vertical-align: top;\n",
       "    }\n",
       "\n",
       "    .dataframe thead th {\n",
       "        text-align: right;\n",
       "    }\n",
       "</style>\n",
       "<table border=\"1\" class=\"dataframe\">\n",
       "  <thead>\n",
       "    <tr style=\"text-align: right;\">\n",
       "      <th></th>\n",
       "      <th>product_id</th>\n",
       "      <th>product_name</th>\n",
       "      <th>aisle_id</th>\n",
       "      <th>department_id</th>\n",
       "      <th>prices</th>\n",
       "      <th>order_id</th>\n",
       "      <th>user_id</th>\n",
       "      <th>order_number</th>\n",
       "      <th>orders_day_of_week</th>\n",
       "      <th>order_hour_of_day</th>\n",
       "      <th>...</th>\n",
       "      <th>dependents</th>\n",
       "      <th>married</th>\n",
       "      <th>income</th>\n",
       "      <th>region</th>\n",
       "      <th>activity_flag</th>\n",
       "      <th>income_flag</th>\n",
       "      <th>sum_per_order</th>\n",
       "      <th>profile</th>\n",
       "      <th>department</th>\n",
       "      <th>_merge</th>\n",
       "    </tr>\n",
       "  </thead>\n",
       "  <tbody>\n",
       "    <tr>\n",
       "      <th>0</th>\n",
       "      <td>1</td>\n",
       "      <td>Chocolate Sandwich Cookies</td>\n",
       "      <td>61</td>\n",
       "      <td>19</td>\n",
       "      <td>5.8</td>\n",
       "      <td>3139998</td>\n",
       "      <td>138</td>\n",
       "      <td>28</td>\n",
       "      <td>6</td>\n",
       "      <td>11</td>\n",
       "      <td>...</td>\n",
       "      <td>1</td>\n",
       "      <td>married</td>\n",
       "      <td>49620</td>\n",
       "      <td>Region_2</td>\n",
       "      <td>High-activity</td>\n",
       "      <td>Low income</td>\n",
       "      <td>34.9</td>\n",
       "      <td>Older Parents</td>\n",
       "      <td>snacks</td>\n",
       "      <td>both</td>\n",
       "    </tr>\n",
       "    <tr>\n",
       "      <th>1</th>\n",
       "      <td>1</td>\n",
       "      <td>Chocolate Sandwich Cookies</td>\n",
       "      <td>61</td>\n",
       "      <td>19</td>\n",
       "      <td>5.8</td>\n",
       "      <td>1977647</td>\n",
       "      <td>138</td>\n",
       "      <td>30</td>\n",
       "      <td>6</td>\n",
       "      <td>17</td>\n",
       "      <td>...</td>\n",
       "      <td>1</td>\n",
       "      <td>married</td>\n",
       "      <td>49620</td>\n",
       "      <td>Region_2</td>\n",
       "      <td>High-activity</td>\n",
       "      <td>Low income</td>\n",
       "      <td>33.9</td>\n",
       "      <td>Older Parents</td>\n",
       "      <td>snacks</td>\n",
       "      <td>both</td>\n",
       "    </tr>\n",
       "    <tr>\n",
       "      <th>2</th>\n",
       "      <td>4913</td>\n",
       "      <td>Table Water Crackers</td>\n",
       "      <td>78</td>\n",
       "      <td>19</td>\n",
       "      <td>4.4</td>\n",
       "      <td>894221</td>\n",
       "      <td>138</td>\n",
       "      <td>23</td>\n",
       "      <td>5</td>\n",
       "      <td>13</td>\n",
       "      <td>...</td>\n",
       "      <td>1</td>\n",
       "      <td>married</td>\n",
       "      <td>49620</td>\n",
       "      <td>Region_2</td>\n",
       "      <td>High-activity</td>\n",
       "      <td>Low income</td>\n",
       "      <td>23.5</td>\n",
       "      <td>Older Parents</td>\n",
       "      <td>snacks</td>\n",
       "      <td>both</td>\n",
       "    </tr>\n",
       "    <tr>\n",
       "      <th>3</th>\n",
       "      <td>11759</td>\n",
       "      <td>Organic Simply Naked Pita Chips</td>\n",
       "      <td>107</td>\n",
       "      <td>19</td>\n",
       "      <td>4.4</td>\n",
       "      <td>1986630</td>\n",
       "      <td>138</td>\n",
       "      <td>7</td>\n",
       "      <td>0</td>\n",
       "      <td>12</td>\n",
       "      <td>...</td>\n",
       "      <td>1</td>\n",
       "      <td>married</td>\n",
       "      <td>49620</td>\n",
       "      <td>Region_2</td>\n",
       "      <td>High-activity</td>\n",
       "      <td>Low income</td>\n",
       "      <td>28.9</td>\n",
       "      <td>Older Parents</td>\n",
       "      <td>snacks</td>\n",
       "      <td>both</td>\n",
       "    </tr>\n",
       "    <tr>\n",
       "      <th>4</th>\n",
       "      <td>13424</td>\n",
       "      <td>Almonds</td>\n",
       "      <td>45</td>\n",
       "      <td>19</td>\n",
       "      <td>4.2</td>\n",
       "      <td>3139998</td>\n",
       "      <td>138</td>\n",
       "      <td>28</td>\n",
       "      <td>6</td>\n",
       "      <td>11</td>\n",
       "      <td>...</td>\n",
       "      <td>1</td>\n",
       "      <td>married</td>\n",
       "      <td>49620</td>\n",
       "      <td>Region_2</td>\n",
       "      <td>High-activity</td>\n",
       "      <td>Low income</td>\n",
       "      <td>34.9</td>\n",
       "      <td>Older Parents</td>\n",
       "      <td>snacks</td>\n",
       "      <td>both</td>\n",
       "    </tr>\n",
       "  </tbody>\n",
       "</table>\n",
       "<p>5 rows × 40 columns</p>\n",
       "</div>"
      ],
      "text/plain": [
       "   product_id                     product_name  aisle_id  department_id  \\\n",
       "0           1       Chocolate Sandwich Cookies        61             19   \n",
       "1           1       Chocolate Sandwich Cookies        61             19   \n",
       "2        4913             Table Water Crackers        78             19   \n",
       "3       11759  Organic Simply Naked Pita Chips       107             19   \n",
       "4       13424                          Almonds        45             19   \n",
       "\n",
       "   prices  order_id  user_id  order_number  orders_day_of_week  \\\n",
       "0     5.8   3139998      138            28                   6   \n",
       "1     5.8   1977647      138            30                   6   \n",
       "2     4.4    894221      138            23                   5   \n",
       "3     4.4   1986630      138             7                   0   \n",
       "4     4.2   3139998      138            28                   6   \n",
       "\n",
       "   order_hour_of_day  ...  dependents  married  income    region  \\\n",
       "0                 11  ...           1  married   49620  Region_2   \n",
       "1                 17  ...           1  married   49620  Region_2   \n",
       "2                 13  ...           1  married   49620  Region_2   \n",
       "3                 12  ...           1  married   49620  Region_2   \n",
       "4                 11  ...           1  married   49620  Region_2   \n",
       "\n",
       "   activity_flag income_flag sum_per_order        profile  department _merge  \n",
       "0  High-activity  Low income          34.9  Older Parents      snacks   both  \n",
       "1  High-activity  Low income          33.9  Older Parents      snacks   both  \n",
       "2  High-activity  Low income          23.5  Older Parents      snacks   both  \n",
       "3  High-activity  Low income          28.9  Older Parents      snacks   both  \n",
       "4  High-activity  Low income          34.9  Older Parents      snacks   both  \n",
       "\n",
       "[5 rows x 40 columns]"
      ]
     },
     "execution_count": 25,
     "metadata": {},
     "output_type": "execute_result"
    }
   ],
   "source": [
    "df_merged.head()"
   ]
  },
  {
   "cell_type": "code",
   "execution_count": 26,
   "id": "a34a7e12",
   "metadata": {},
   "outputs": [],
   "source": [
    "# delete df because we will not use it anymore, to release memory\n",
    "del df"
   ]
  },
  {
   "cell_type": "markdown",
   "id": "5af9ec07",
   "metadata": {},
   "source": [
    "### We want to know what are the top ten departments in each customer profile"
   ]
  },
  {
   "cell_type": "markdown",
   "id": "f832133f",
   "metadata": {},
   "source": [
    "#### Older Parents Profile"
   ]
  },
  {
   "cell_type": "code",
   "execution_count": 27,
   "id": "988477a3",
   "metadata": {},
   "outputs": [],
   "source": [
    "# Subsetting the data with specific family profile\n",
    "older_parents_profile = df_merged[df_merged['profile'] == 'Older Parents']"
   ]
  },
  {
   "cell_type": "code",
   "execution_count": 28,
   "id": "bc3cc7cf",
   "metadata": {},
   "outputs": [
    {
     "data": {
      "text/plain": [
       "count    1.522035e+07\n",
       "mean     1.341092e+01\n",
       "std      4.244416e+00\n",
       "min      0.000000e+00\n",
       "25%      1.000000e+01\n",
       "50%      1.300000e+01\n",
       "75%      1.600000e+01\n",
       "max      2.300000e+01\n",
       "Name: order_hour_of_day, dtype: float64"
      ]
     },
     "execution_count": 28,
     "metadata": {},
     "output_type": "execute_result"
    }
   ],
   "source": [
    "# Descriptive stats for order_hour_of_day\n",
    "older_parents_profile['order_hour_of_day'].describe()"
   ]
  },
  {
   "cell_type": "code",
   "execution_count": 29,
   "id": "b31efb04",
   "metadata": {},
   "outputs": [
    {
     "data": {
      "text/plain": [
       "count    1.522035e+07\n",
       "mean     1.219175e+02\n",
       "std      5.668365e+01\n",
       "min      1.300000e+00\n",
       "25%      8.145596e+01\n",
       "50%      1.136998e+02\n",
       "75%      1.534409e+02\n",
       "max      5.567208e+02\n",
       "Name: avg_spend, dtype: float64"
      ]
     },
     "execution_count": 29,
     "metadata": {},
     "output_type": "execute_result"
    }
   ],
   "source": [
    "# Descriptive stats for average spending\n",
    "older_parents_profile['avg_spend'].describe()"
   ]
  },
  {
   "cell_type": "code",
   "execution_count": 30,
   "id": "de086105",
   "metadata": {},
   "outputs": [
    {
     "data": {
      "text/plain": [
       "Text(0, 0.5, 'Frequency of Order')"
      ]
     },
     "execution_count": 30,
     "metadata": {},
     "output_type": "execute_result"
    },
    {
     "data": {
      "image/png": "[encoded data removed]",
      "text/plain": [
       "<Figure size 640x480 with 1 Axes>"
      ]
     },
     "metadata": {},
     "output_type": "display_data"
    }
   ],
   "source": [
    "bar_profile_dept = older_parents_profile['department'].value_counts().head(10).plot.bar()\n",
    "plt.title('Older Parents Top Ten Departments')\n",
    "plt.xlabel('Department Name')\n",
    "plt.ylabel('Frequency of Order')"
   ]
  },
  {
   "cell_type": "code",
   "execution_count": 31,
   "id": "ae86bf26",
   "metadata": {},
   "outputs": [],
   "source": [
    "# Save the image into a file\n",
    "bar_profile_dept.figure.savefig(os.path.join(path, 'Analysis','Visualizations', 'bar_profile_dept.png'))"
   ]
  },
  {
   "cell_type": "code",
   "execution_count": 32,
   "id": "a75f84e3",
   "metadata": {},
   "outputs": [],
   "source": [
    "del older_parents_profile"
   ]
  },
  {
   "cell_type": "markdown",
   "id": "bdc69747",
   "metadata": {},
   "source": [
    "#### Young Parents Profile"
   ]
  },
  {
   "cell_type": "code",
   "execution_count": 33,
   "id": "b10ae41a",
   "metadata": {},
   "outputs": [],
   "source": [
    "# Subsetting the data with specific family profile\n",
    "young_parents_profile = df_merged[df_merged['profile'] == 'Young Parents']"
   ]
  },
  {
   "cell_type": "code",
   "execution_count": 34,
   "id": "8987d0ed",
   "metadata": {},
   "outputs": [
    {
     "data": {
      "text/plain": [
       "count    8.004535e+06\n",
       "mean     1.340124e+01\n",
       "std      4.250343e+00\n",
       "min      0.000000e+00\n",
       "25%      1.000000e+01\n",
       "50%      1.300000e+01\n",
       "75%      1.600000e+01\n",
       "max      2.300000e+01\n",
       "Name: order_hour_of_day, dtype: float64"
      ]
     },
     "execution_count": 34,
     "metadata": {},
     "output_type": "execute_result"
    }
   ],
   "source": [
    "# Descriptive stats for order_hour_of_day\n",
    "young_parents_profile['order_hour_of_day'].describe()"
   ]
  },
  {
   "cell_type": "code",
   "execution_count": 35,
   "id": "7410acdf",
   "metadata": {},
   "outputs": [
    {
     "data": {
      "text/plain": [
       "count    8.004535e+06\n",
       "mean     1.232330e+02\n",
       "std      5.764358e+01\n",
       "min      1.000000e+00\n",
       "25%      8.259559e+01\n",
       "50%      1.143266e+02\n",
       "75%      1.541759e+02\n",
       "max      5.088000e+02\n",
       "Name: avg_spend, dtype: float64"
      ]
     },
     "execution_count": 35,
     "metadata": {},
     "output_type": "execute_result"
    }
   ],
   "source": [
    "# Descriptive stats for avg_spend\n",
    "young_parents_profile['avg_spend'].describe()"
   ]
  },
  {
   "cell_type": "code",
   "execution_count": 36,
   "id": "e11b936e",
   "metadata": {},
   "outputs": [
    {
     "data": {
      "text/plain": [
       "Text(0, 0.5, 'Frequency of Order')"
      ]
     },
     "execution_count": 36,
     "metadata": {},
     "output_type": "execute_result"
    },
    {
     "data": {
      "image/png": "[encoded data removed]",
      "text/plain": [
       "<Figure size 640x480 with 1 Axes>"
      ]
     },
     "metadata": {},
     "output_type": "display_data"
    }
   ],
   "source": [
    "# Create Bar Chart for department profile\n",
    "bar_young_parents = young_parents_profile['department'].value_counts().head(10).plot.bar()\n",
    "plt.title('Young Parents Top Ten Departments')\n",
    "plt.xlabel('Department Name')\n",
    "plt.ylabel('Frequency of Order')"
   ]
  },
  {
   "cell_type": "code",
   "execution_count": 37,
   "id": "8bbd2be3",
   "metadata": {},
   "outputs": [],
   "source": [
    "# Save the image into a file\n",
    "bar_young_parents.figure.savefig(os.path.join(path, 'Analysis','Visualizations', 'bar_young_parents.png'))"
   ]
  },
  {
   "cell_type": "code",
   "execution_count": 38,
   "id": "0188d70b",
   "metadata": {},
   "outputs": [],
   "source": [
    "del young_parents_profile"
   ]
  },
  {
   "cell_type": "markdown",
   "id": "557f7e8f",
   "metadata": {},
   "source": [
    "#### Young Single Profile"
   ]
  },
  {
   "cell_type": "code",
   "execution_count": 39,
   "id": "6bb7d7c4",
   "metadata": {},
   "outputs": [],
   "source": [
    "# Subsetting the data with specific family profile\n",
    "young_single_profile = df_merged[df_merged['profile'] == 'Young Single']"
   ]
  },
  {
   "cell_type": "code",
   "execution_count": 40,
   "id": "caa188a1",
   "metadata": {},
   "outputs": [
    {
     "data": {
      "text/plain": [
       "count    2.660575e+06\n",
       "mean     1.339295e+01\n",
       "std      4.252361e+00\n",
       "min      0.000000e+00\n",
       "25%      1.000000e+01\n",
       "50%      1.300000e+01\n",
       "75%      1.600000e+01\n",
       "max      2.300000e+01\n",
       "Name: order_hour_of_day, dtype: float64"
      ]
     },
     "execution_count": 40,
     "metadata": {},
     "output_type": "execute_result"
    }
   ],
   "source": [
    "# Descriptive stats for order_hour_of_day\n",
    "young_single_profile['order_hour_of_day'].describe()"
   ]
  },
  {
   "cell_type": "code",
   "execution_count": 41,
   "id": "39224870",
   "metadata": {},
   "outputs": [
    {
     "data": {
      "text/plain": [
       "count    2.660575e+06\n",
       "mean     1.219181e+02\n",
       "std      5.642944e+01\n",
       "min      2.000000e+00\n",
       "25%      8.189891e+01\n",
       "50%      1.135414e+02\n",
       "75%      1.527292e+02\n",
       "max      4.128839e+02\n",
       "Name: avg_spend, dtype: float64"
      ]
     },
     "execution_count": 41,
     "metadata": {},
     "output_type": "execute_result"
    }
   ],
   "source": [
    "# Descriptive stats for avg_spend\n",
    "young_single_profile['avg_spend'].describe()"
   ]
  },
  {
   "cell_type": "code",
   "execution_count": 42,
   "id": "56a1857f",
   "metadata": {},
   "outputs": [
    {
     "data": {
      "text/plain": [
       "Text(0, 0.5, 'Frequency of Order')"
      ]
     },
     "execution_count": 42,
     "metadata": {},
     "output_type": "execute_result"
    },
    {
     "data": {
      "image/png": "[encoded data removed]",
      "text/plain": [
       "<Figure size 640x480 with 1 Axes>"
      ]
     },
     "metadata": {},
     "output_type": "display_data"
    }
   ],
   "source": [
    "# Create Bar Chart for department profile\n",
    "bar_young_single = young_single_profile['department'].value_counts().head(10).plot.bar()\n",
    "plt.title('Young Single Top Ten Departments')\n",
    "plt.xlabel('Department Name')\n",
    "plt.ylabel('Frequency of Order')"
   ]
  },
  {
   "cell_type": "code",
   "execution_count": 43,
   "id": "27be1548",
   "metadata": {},
   "outputs": [],
   "source": [
    "# Save the image into a file\n",
    "bar_young_single.figure.savefig(os.path.join(path, 'Analysis','Visualizations', 'bar_young_single.png'))"
   ]
  },
  {
   "cell_type": "code",
   "execution_count": 44,
   "id": "b3e3510a",
   "metadata": {},
   "outputs": [],
   "source": [
    "del young_single_profile"
   ]
  },
  {
   "cell_type": "markdown",
   "id": "47d7258c",
   "metadata": {},
   "source": [
    "#### Older Single Profile"
   ]
  },
  {
   "cell_type": "code",
   "execution_count": 45,
   "id": "f6226a9c",
   "metadata": {},
   "outputs": [],
   "source": [
    "# Subsetting the data with specific family profile\n",
    "older_single_profile = df_merged[df_merged['profile'] == 'Older Single']"
   ]
  },
  {
   "cell_type": "code",
   "execution_count": 46,
   "id": "44c8e300",
   "metadata": {},
   "outputs": [
    {
     "data": {
      "text/plain": [
       "count    5.079106e+06\n",
       "mean     1.343597e+01\n",
       "std      4.257791e+00\n",
       "min      0.000000e+00\n",
       "25%      1.000000e+01\n",
       "50%      1.300000e+01\n",
       "75%      1.600000e+01\n",
       "max      2.300000e+01\n",
       "Name: order_hour_of_day, dtype: float64"
      ]
     },
     "execution_count": 46,
     "metadata": {},
     "output_type": "execute_result"
    }
   ],
   "source": [
    "# Descriptive stats for order_hour_of_day\n",
    "older_single_profile['order_hour_of_day'].describe()"
   ]
  },
  {
   "cell_type": "code",
   "execution_count": 47,
   "id": "f6075b80",
   "metadata": {},
   "outputs": [
    {
     "data": {
      "text/plain": [
       "count    5.079106e+06\n",
       "mean     1.217436e+02\n",
       "std      5.646774e+01\n",
       "min      1.000000e+00\n",
       "25%      8.155176e+01\n",
       "50%      1.135465e+02\n",
       "75%      1.531750e+02\n",
       "max      4.896009e+02\n",
       "Name: avg_spend, dtype: float64"
      ]
     },
     "execution_count": 47,
     "metadata": {},
     "output_type": "execute_result"
    }
   ],
   "source": [
    "# Descriptive stats for avg_spend\n",
    "older_single_profile['avg_spend'].describe()"
   ]
  },
  {
   "cell_type": "code",
   "execution_count": 48,
   "id": "d513a1f5",
   "metadata": {},
   "outputs": [
    {
     "data": {
      "text/plain": [
       "Text(0, 0.5, 'Frequency of Order')"
      ]
     },
     "execution_count": 48,
     "metadata": {},
     "output_type": "execute_result"
    },
    {
     "data": {
      "image/png": "[encoded data removed]",
      "text/plain": [
       "<Figure size 640x480 with 1 Axes>"
      ]
     },
     "metadata": {},
     "output_type": "display_data"
    }
   ],
   "source": [
    "# Create Bar Chart for department profile\n",
    "bar_older_single = older_single_profile['department'].value_counts().head(10).plot.bar()\n",
    "plt.title('Older Single Top Ten Departments')\n",
    "plt.xlabel('Department Name')\n",
    "plt.ylabel('Frequency of Order')"
   ]
  },
  {
   "cell_type": "markdown",
   "id": "2950b37e",
   "metadata": {},
   "source": [
    "**Note:** It looks like the top ten departments are very similar across four customer profiles."
   ]
  },
  {
   "cell_type": "code",
   "execution_count": 49,
   "id": "105208a1",
   "metadata": {},
   "outputs": [],
   "source": [
    "# Save the image into a file\n",
    "bar_older_single.figure.savefig(os.path.join(path, 'Analysis','Visualizations', 'bar_older_single.png'))"
   ]
  },
  {
   "cell_type": "code",
   "execution_count": 50,
   "id": "835c3fdd",
   "metadata": {},
   "outputs": [],
   "source": [
    "del older_single_profile"
   ]
  },
  {
   "cell_type": "code",
   "execution_count": 52,
   "id": "fcad452a",
   "metadata": {},
   "outputs": [
    {
     "name": "stdout",
     "output_type": "stream",
     "text": [
      "Start time: 13:22:06\n",
      "End time: 13:23:26\n"
     ]
    }
   ],
   "source": [
    "#Export the dataframe\n",
    "print ('Start time: ' + datetime.now().strftime(\"%H:%M:%S\"))\n",
    "df_merged.to_pickle(os.path.join(path, 'Data','Prepared Data', 'final_data.pkl'))\n",
    "print ('End time: ' + datetime.now().strftime(\"%H:%M:%S\"))"
   ]
  },
  {
   "cell_type": "markdown",
   "id": "68d3dfee",
   "metadata": {},
   "source": [
    "# End"
   ]
  }
 ],
 "metadata": {
  "kernelspec": {
   "display_name": "Python 3 (ipykernel)",
   "language": "python",
   "name": "python3"
  },
  "language_info": {
   "codemirror_mode": {
    "name": "ipython",
    "version": 3
   },
   "file_extension": ".py",
   "mimetype": "text/x-python",
   "name": "python",
   "nbconvert_exporter": "python",
   "pygments_lexer": "ipython3",
   "version": "3.11.5"
  }
 },
 "nbformat": 4,
 "nbformat_minor": 5
}
