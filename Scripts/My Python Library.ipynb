{
 "cells": [
  {
   "cell_type": "markdown",
   "id": "dfb03e32",
   "metadata": {},
   "source": [
    "# Python Library"
   ]
  },
  {
   "cell_type": "markdown",
   "id": "1adf231e",
   "metadata": {},
   "source": [
    "#### Import data from a file"
   ]
  },
  {
   "cell_type": "code",
   "execution_count": null,
   "id": "6fdac159",
   "metadata": {},
   "outputs": [],
   "source": [
    "# To import only certain columns from data file\n",
    "vars_list = ['order_id', 'user_id', 'order_number', 'order_dow', 'order_hour_of_day']\n",
    "df = pd.read_csv(os.path.join(path, 'Data', 'Original Data', 'orders.csv'), usecols = vars_list)\n",
    "\n",
    "# To import everything\n",
    "# Avoid the first column to be used as index\n",
    "df = pd.read_csv(os.path.join(path, 'Data', 'Original Data', 'orders.csv'), index_col = False)"
   ]
  },
  {
   "cell_type": "markdown",
   "id": "49b9618f",
   "metadata": {},
   "source": [
    "#### Dataframe functions"
   ]
  },
  {
   "cell_type": "code",
   "execution_count": null,
   "id": "59d4e01f",
   "metadata": {},
   "outputs": [],
   "source": [
    "# Basic functions\n",
    "df.head()\n",
    "df.tail()\n",
    "df.column\n",
    "df.describe()\n",
    "df.info()\n",
    "\n",
    "# Counting data frequency in a column\n",
    "df['order_hour_of_day'].value_counts(dropna=False)\n",
    "\n",
    "# To drop a column\n",
    "df_combined.drop('busiest_period_of_day', axis=1, inplace=True)\n",
    "\n",
    "# Adding new flag column\n",
    "\n",
    "# Using Apply function ==> Takes a long time!!!!\n",
    "df_combined['price_range'] = df_combined.apply(price_label, axis=1)\n",
    "# Using loc function ==> very fast!\n",
    "df_combined.loc[df_combined['prices'] > 15, 'price_range_loc'] = 'High-range'\n",
    "# Using list ==> very fast!\n",
    "df_combined['busiest_day'] = result\n"
   ]
  },
  {
   "cell_type": "markdown",
   "id": "96263890",
   "metadata": {},
   "source": [
    "#### Aggregation Functions"
   ]
  },
  {
   "cell_type": "code",
   "execution_count": null,
   "id": "8cb9520b",
   "metadata": {},
   "outputs": [],
   "source": [
    "# Perform aggragation on SUBSET dataframe for AVERAGE order_number GROUPED by department_id\n",
    "df.groupby('department_id').agg({'order_number': ['mean']})\n",
    "\n",
    "# In SQL would be: \n",
    "# SELECT AVG(order_number)\n",
    "# GROUPBY department_id\n",
    "\n",
    "# Different way to achieve the same result\n",
    "df.groupby('department_id')['order_number'].mean()\n",
    "\n",
    "# Use transform function to assign the new result on max_order column\n",
    "df['max_order'] = df.groupby(['user_id'])['order_number'].transform(np.max)"
   ]
  },
  {
   "cell_type": "markdown",
   "id": "10dfd8be",
   "metadata": {},
   "source": [
    "#### Data Wrangling"
   ]
  },
  {
   "cell_type": "code",
   "execution_count": 1,
   "id": "fac0e577",
   "metadata": {
    "scrolled": true
   },
   "outputs": [],
   "source": [
    "# Change Data Type\n",
    "df['order_id'] = df['order_id'].astype('str')\n",
    "\n",
    "# Transpose columns\n",
    "df_t = df.T\n",
    "\n",
    "# Rename a column\n",
    "df.rename(columns = {'order_dow' : 'orders_day_of_week'}, inplace = True)\n",
    "\n",
    "# Subsetting dataframe for Breakfast department using index\n",
    "df_breakfast =  df_product[df_product['department_id']==14]\n",
    "\n",
    "# Subsetting dataframe for Snacks department using isin method\n",
    "df_snacks = df_product.loc[df_product['department_id'].isin([19])]\n",
    "df_snacks\n",
    "\n",
    "# Extract items from the following departments: 5,7,12,20 for party related items\n",
    "df_party = df_product.loc[df_product['department_id'].isin([5,7,12,20])]\n",
    "df_party\n"
   ]
  },
  {
   "cell_type": "markdown",
   "id": "8a3b541c",
   "metadata": {},
   "source": [
    "#### Visualization"
   ]
  },
  {
   "cell_type": "code",
   "execution_count": null,
   "id": "b2bacbdb",
   "metadata": {},
   "outputs": [],
   "source": [
    "# Crosstabs are a common tool for conducting data checks in Python. \n",
    "# Think of them as Python’s version of Excel’s pivot tables.\n",
    "crosstab = pd.crosstab(ords_prods_merge['days_since_prior_order'], ords_prods_merge['order_number'], dropna = False)\n",
    "crosstab.to_clipboard()"
   ]
  },
  {
   "cell_type": "code",
   "execution_count": null,
   "id": "3a13e2a4",
   "metadata": {},
   "outputs": [],
   "source": [
    "# Different ways to create Bar Chart\n",
    "df.plot(kind = 'bar', stacked = True, color = colors)\n",
    "df['order_hour_of_day'].value_counts().sort_index().plot.bar()\n",
    "df[df['region'] == 'Region_4']['orders_day_of_week'].value_counts().plot(kind = 'bar', stacked = True, color = colors)"
   ]
  },
  {
   "cell_type": "code",
   "execution_count": null,
   "id": "1422888c",
   "metadata": {},
   "outputs": [],
   "source": [
    "# Create Histogram\n",
    "df['order_hour_of_day'].plot.hist(bins = 75)"
   ]
  },
  {
   "cell_type": "code",
   "execution_count": null,
   "id": "0db18fa7",
   "metadata": {},
   "outputs": [],
   "source": [
    "\n",
    "#Key Question #5 part b\n",
    "#Creating barplot\n",
    "barplot = crosstab.plot.bar(rot=0)"
   ]
  },
  {
   "cell_type": "code",
   "execution_count": null,
   "id": "bba8ab2f",
   "metadata": {},
   "outputs": [],
   "source": [
    "#Key Question #5 part b\n",
    "#Creating barplot for hour_of_day_ordered\n",
    "barplot_2 = crosstab_2.plot.bar(style=['o', 'rx'])\n",
    "plt.legend(bbox_to_anchor=(1.0, 1.0))\n",
    "plt.show()"
   ]
  },
  {
   "cell_type": "code",
   "execution_count": null,
   "id": "b1c6d7f3",
   "metadata": {},
   "outputs": [],
   "source": [
    "#Key Question #5 part b\n",
    "#Creating barplot for days_since_prior_order\n",
    "barplot_3 = crosstab_3.plot.bar(style=['o', 'rx'])\n",
    "plt.legend(bbox_to_anchor=(1.0, 1.0))\n",
    "plt.show()"
   ]
  },
  {
   "cell_type": "code",
   "execution_count": null,
   "id": "ce5db40e",
   "metadata": {},
   "outputs": [],
   "source": [
    "#Key Question #5 part c\n",
    "#Creating barplot\n",
    "barplot_4 = crosstab_4.plot.bar(rot=0)"
   ]
  },
  {
   "cell_type": "code",
   "execution_count": null,
   "id": "b2adb56b",
   "metadata": {},
   "outputs": [],
   "source": [
    "# Save a palette to a variable:\n",
    "palette = sns.color_palette('Greens_r', 10)"
   ]
  },
  {
   "cell_type": "code",
   "execution_count": null,
   "id": "470e6482",
   "metadata": {},
   "outputs": [],
   "source": [
    "# Use palplot and pass in the variable:\n",
    "sns.palplot(palette)"
   ]
  },
  {
   "cell_type": "code",
   "execution_count": null,
   "id": "1ebfac9d",
   "metadata": {},
   "outputs": [],
   "source": [
    "#Create a scatter plot of the max_order to average_price\n",
    "scatterplot_max_order_to_average_price = sns.scatterplot(x = 'max_order', y = 'average_price', data = df_ords_prods_all_merged, color='green')"
   ]
  },
  {
   "cell_type": "code",
   "execution_count": null,
   "id": "9d835738",
   "metadata": {},
   "outputs": [],
   "source": [
    "#Create a bar chart from the income-group column\n",
    "fig = plt.figure(figsize=(10,5))\n",
    "bar_price_range = df_ords_prods_all_merged['income-group'].value_counts().plot.bar(color=['green'])\n",
    "plt.xlabel('Income Group')\n",
    "plt.ylabel('Order Frequency')\n",
    "plt.title('Order Frequency by Income Group')\n",
    "plt.legend(bbox_to_anchor=(1.0, 1.0))\n",
    "plt.show()"
   ]
  },
  {
   "cell_type": "code",
   "execution_count": null,
   "id": "9925e893",
   "metadata": {},
   "outputs": [],
   "source": [
    "ax = sns.boxplot(data=df_ords_prods_all_merged, x='income', y='family_status', color='green')\n",
    "ax.set_xticklabels(ax.get_xticklabels(),rotation=90)"
   ]
  },
  {
   "cell_type": "code",
   "execution_count": null,
   "id": "56bcd352",
   "metadata": {},
   "outputs": [],
   "source": [
    "# Plot the data using a bar chart\n",
    "colors = ['green', 'orange']\n",
    "bar_spender_region = df_grouped.plot(kind = 'bar', stacked = True, color = colors)\n",
    "plt.title('Customer Spending Power in Different Regions')\n",
    "plt.xlabel('Region')\n",
    "plt.ylabel('Number of Customers')\n",
    "plt.xticks(rotation=0)\n",
    "plt.show()"
   ]
  },
  {
   "cell_type": "code",
   "execution_count": null,
   "id": "c06e74ac",
   "metadata": {},
   "outputs": [],
   "source": [
    "bar_dow_loyalty = ords_prods_customers.groupby('loyalty_flag')['orders_day_of_week'].value_counts().plot.bar(title = 'Day of Orders - Loyalty Status', xlabel = 'Day of week', ylabel = 'Number of Orders', color = ['green','green','green','green','green','green','green', 'orange','orange','orange','orange','orange','orange','orange', 'blue', 'blue', 'blue', 'blue', 'blue', 'blue', 'blue'])\n",
    "plt.tight_layout()"
   ]
  },
  {
   "cell_type": "code",
   "execution_count": null,
   "id": "0a3f3bef",
   "metadata": {},
   "outputs": [],
   "source": [
    "# Plot the data using a bar chart\n",
    "colors = ['green', 'orange', 'blue']\n",
    "bar_dep_loyalty = df_grouped_dep_loyal_sort.plot(kind = 'bar', stacked = True, color = colors)\n",
    "plt.title('Department Popularity among Loyalty Status')\n",
    "plt.xlabel('Department')\n",
    "plt.ylabel('Number of Orders')\n",
    "plt.tight_layout()\n",
    "plt.show()"
   ]
  },
  {
   "cell_type": "code",
   "execution_count": null,
   "id": "86188577",
   "metadata": {},
   "outputs": [],
   "source": [
    "bar_dow_region = ords_prods_customers.groupby('region')['orders_day_of_week'].value_counts().plot.bar(title = 'Day of Orders - Region', xlabel = 'Day of week', ylabel = 'Number of Orders', color = ['green','green','green','green','green','green','green', 'orange','orange','orange','orange','orange','orange','orange', 'blue', 'blue', 'blue', 'blue', 'blue', 'blue', 'blue', 'purple', 'purple', 'purple', 'purple', 'purple', 'purple', 'purple'])\n",
    "plt.tight_layout()"
   ]
  },
  {
   "cell_type": "code",
   "execution_count": null,
   "id": "6505ad26",
   "metadata": {},
   "outputs": [],
   "source": [
    "# Plot the data using a bar chart\n",
    "colors = ['green', 'orange', 'blue', 'purple']\n",
    "bar_dep_region = df_grouped_dep_region_sort.plot(kind = 'bar', stacked = True, color = colors)\n",
    "plt.title('Department Popularity among Region')\n",
    "plt.xlabel('Department')\n",
    "plt.ylabel('Number of Orders')\n",
    "plt.tight_layout()\n",
    "plt.show()"
   ]
  },
  {
   "cell_type": "code",
   "execution_count": null,
   "id": "71abfc7c",
   "metadata": {},
   "outputs": [],
   "source": [
    "# Check the family status frequency\n",
    "pie_fam_status = ords_prods_customers['fam_status'].value_counts().plot.pie(title = 'Family Status', colors = ['green', 'orange', 'blue', 'purple'])"
   ]
  },
  {
   "cell_type": "code",
   "execution_count": null,
   "id": "c65406b8",
   "metadata": {},
   "outputs": [],
   "source": [
    "# Plot the data using a bar chart\n",
    "colors = ['green', 'orange', 'blue']\n",
    "bar_fam_age = df_grouped_fam_age.plot(kind = 'barh', stacked = True, color = colors)\n",
    "plt.title('Orders in Different Family Status and Age Groups')\n",
    "plt.xlabel('Number of Customers')\n",
    "plt.ylabel('Family Status')\n",
    "plt.tight_layout()\n",
    "plt.show()"
   ]
  },
  {
   "cell_type": "code",
   "execution_count": null,
   "id": "4d547ff2",
   "metadata": {},
   "outputs": [],
   "source": [
    "# To analyze the proportions in a bar chart\n",
    "colors = ['green', 'orange', 'blue']\n",
    "df_prop_grouped_loyal_age = df_grouped_loyal_age.div(df_grouped_loyal_age.sum(axis = 1), axis = 0)\n",
    "bar_age_loyalty_prop = df_prop_grouped_loyal_age.plot(kind = 'bar', stacked = True, color = colors)\n",
    "plt.title('Proportion of Orders in Different Age Groups and Loyalty')\n",
    "plt.xlabel('Age Groups')\n",
    "plt.ylabel('Proportion of Customers')\n",
    "plt.xticks(rotation=0)\n",
    "plt.show()"
   ]
  },
  {
   "cell_type": "code",
   "execution_count": null,
   "id": "37dccf24",
   "metadata": {},
   "outputs": [],
   "source": [
    "# Display the counts above in a bar chart\n",
    "# Bar charts that show income type distributions by region\n",
    "\n",
    "plt.figure(figsize = (10, 6))\n",
    "barplot1 = sns.countplot(data = df_2, x = 'age_flag')\n",
    "\n",
    "plt.title('Distribution of Ages Groups')\n",
    "plt.xlabel('Age Groups')\n",
    "plt.ylabel('Count')\n",
    "plt.xticks(rotation = 45, ha = 'right')\n",
    "plt.show()"
   ]
  },
  {
   "cell_type": "code",
   "execution_count": null,
   "id": "2a4077f0",
   "metadata": {},
   "outputs": [],
   "source": [
    "# Display the counts above in a bar chart\n",
    "# Bar charts that show income type distributions by region\n",
    "\n",
    "plt.figure(figsize = (10, 6))\n",
    "barplot4 = sns.countplot(data = df_2, x = 'department')\n",
    "\n",
    "plt.title('Most Frequently Purchased Items')\n",
    "plt.xlabel('Department')\n",
    "plt.ylabel('Count')\n",
    "# plt.legend(title = 'Order Type Groups', bbox_to_anchor = (1.05, 1), loc = 'upper left')\n",
    "plt.xticks(rotation = 45, ha = 'right')\n",
    "plt.show()"
   ]
  },
  {
   "cell_type": "code",
   "execution_count": null,
   "id": "00e158a9",
   "metadata": {},
   "outputs": [],
   "source": [
    "# Bar charts that show age group distributions by region\n",
    "\n",
    "plt.figure(figsize = (10, 6))\n",
    "barplot6 = sns.countplot(data = df_2, x = 'region', hue = 'age_flag')\n",
    "\n",
    "plt.title('Age Group Distribution by Region')\n",
    "plt.xlabel('Region')\n",
    "plt.ylabel('Count')\n",
    "plt.legend(title='Age Group', bbox_to_anchor=(1.05, 1), loc='upper left')\n",
    "plt.show()"
   ]
  },
  {
   "cell_type": "code",
   "execution_count": null,
   "id": "b90c5c82",
   "metadata": {},
   "outputs": [],
   "source": [
    "# Line chart for days of the week (order_dow) when a purchase was made and the age of\n",
    "# the person who made the purchase (age_flag). Day '0' is Saturday.\n",
    "plt.figure(figsize = (10, 5))\n",
    "\n",
    "barplot7 = sns.lineplot(data = df_2, \n",
    "             x = 'order_dow', \n",
    "             y = 'prices', \n",
    "             hue = 'age_flag', \n",
    "             palette = 'RdYlGn',\n",
    "             errorbar = None\n",
    "            )\n",
    "\n",
    "plt.title(\"Orders Day of Week by Age Group\")\n",
    "plt.xlabel(\"Days of the Week\")\n",
    "plt.ylabel(\"\")\n",
    "plt.show()"
   ]
  },
  {
   "cell_type": "code",
   "execution_count": null,
   "id": "e44c05bb",
   "metadata": {},
   "outputs": [],
   "source": [
    "# Bar charts that show age group distributions by region\n",
    "\n",
    "plt.figure(figsize = (10, 6))\n",
    "barplot8 = sns.countplot(data = df_2, x = 'region', hue = 'order_type')\n",
    "\n",
    "plt.title('Order Type by Region')\n",
    "plt.xlabel('Region')\n",
    "plt.ylabel('Count')\n",
    "plt.legend(title = 'Order Type Groups', bbox_to_anchor = (1.05, 1), loc = 'upper left')\n",
    "plt.show()"
   ]
  },
  {
   "cell_type": "code",
   "execution_count": null,
   "id": "383a5b55",
   "metadata": {},
   "outputs": [],
   "source": []
  },
  {
   "cell_type": "code",
   "execution_count": null,
   "id": "03fc5c16",
   "metadata": {},
   "outputs": [],
   "source": []
  },
  {
   "cell_type": "code",
   "execution_count": null,
   "id": "444315b7",
   "metadata": {},
   "outputs": [],
   "source": []
  },
  {
   "cell_type": "code",
   "execution_count": null,
   "id": "fb8cbfc3",
   "metadata": {},
   "outputs": [],
   "source": []
  },
  {
   "cell_type": "code",
   "execution_count": null,
   "id": "2265b929",
   "metadata": {},
   "outputs": [],
   "source": []
  }
 ],
 "metadata": {
  "kernelspec": {
   "display_name": "Python 3 (ipykernel)",
   "language": "python",
   "name": "python3"
  },
  "language_info": {
   "codemirror_mode": {
    "name": "ipython",
    "version": 3
   },
   "file_extension": ".py",
   "mimetype": "text/x-python",
   "name": "python",
   "nbconvert_exporter": "python",
   "pygments_lexer": "ipython3",
   "version": "3.11.5"
  }
 },
 "nbformat": 4,
 "nbformat_minor": 5
}
