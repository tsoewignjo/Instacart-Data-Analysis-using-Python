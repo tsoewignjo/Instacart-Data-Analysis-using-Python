{
 "cells": [
  {
   "cell_type": "markdown",
   "id": "803b1f5c",
   "metadata": {},
   "source": [
    "#### Python Fundamentals for Data Analysts"
   ]
  },
  {
   "cell_type": "markdown",
   "id": "780ef073",
   "metadata": {},
   "source": [
    "# 4.2: Jupyter Fundamentals & Python Data Types"
   ]
  },
  {
   "cell_type": "code",
   "execution_count": 1,
   "id": "c6c9af28",
   "metadata": {},
   "outputs": [],
   "source": [
    "# Import libraries\n",
    "import pandas as pd\n",
    "import numpy as np\n",
    "import os"
   ]
  },
  {
   "cell_type": "markdown",
   "id": "4be4794b",
   "metadata": {},
   "source": [
    "#### Learning simple Python operations"
   ]
  },
  {
   "cell_type": "code",
   "execution_count": 27,
   "id": "59c9e069",
   "metadata": {},
   "outputs": [
    {
     "name": "stdout",
     "output_type": "stream",
     "text": [
      "100\n"
     ]
    }
   ],
   "source": [
    "# 3 different ways to produce 100 \n",
    "x = 50\n",
    "y = 50\n",
    "print (x + y)"
   ]
  },
  {
   "cell_type": "code",
   "execution_count": 35,
   "id": "ee7535d0",
   "metadata": {},
   "outputs": [
    {
     "name": "stdout",
     "output_type": "stream",
     "text": [
      "100\n"
     ]
    }
   ],
   "source": [
    "x = 150\n",
    "y = 50\n",
    "print (x - y)"
   ]
  },
  {
   "cell_type": "code",
   "execution_count": 29,
   "id": "2c9daef7",
   "metadata": {},
   "outputs": [
    {
     "name": "stdout",
     "output_type": "stream",
     "text": [
      "100\n"
     ]
    }
   ],
   "source": [
    "print (30 + 70)"
   ]
  },
  {
   "cell_type": "code",
   "execution_count": 30,
   "id": "72a212bd",
   "metadata": {},
   "outputs": [
    {
     "name": "stdout",
     "output_type": "stream",
     "text": [
      "0.5262260127931769\n"
     ]
    }
   ],
   "source": [
    "# division with float numbers\n",
    "x = 1.234\n",
    "y = 2.345\n",
    "print (x/y)"
   ]
  },
  {
   "cell_type": "code",
   "execution_count": 32,
   "id": "5822e097",
   "metadata": {},
   "outputs": [
    {
     "name": "stdout",
     "output_type": "stream",
     "text": [
      "Hello world!\n"
     ]
    }
   ],
   "source": [
    "# concatenate 2 strings\n",
    "x = 'Hello '\n",
    "y = 'world!'\n",
    "print (x+y)"
   ]
  },
  {
   "cell_type": "code",
   "execution_count": 36,
   "id": "dfdbeaa4",
   "metadata": {},
   "outputs": [
    {
     "name": "stdout",
     "output_type": "stream",
     "text": [
      "I love Python programming\n"
     ]
    }
   ],
   "source": [
    "x = 'I love '\n",
    "y = 'Python programming'\n",
    "print (x+y)"
   ]
  },
  {
   "cell_type": "code",
   "execution_count": 1,
   "id": "b181afcf",
   "metadata": {},
   "outputs": [
    {
     "data": {
      "text/plain": [
       "'Hello world! Hello world! Hello world! Hello world! Hello world! Hello world! Hello world! Hello world! Hello world! Hello world! Hello world! Hello world! Hello world! Hello world! Hello world! Hello world! Hello world! Hello world! Hello world! Hello world! Hello world! Hello world! Hello world! Hello world! Hello world! Hello world! Hello world! Hello world! Hello world! Hello world! Hello world! Hello world! Hello world! Hello world! Hello world! Hello world! Hello world! Hello world! Hello world! Hello world! Hello world! Hello world! Hello world! Hello world! Hello world! Hello world! Hello world! Hello world! Hello world! Hello world! Hello world! Hello world! Hello world! Hello world! Hello world! Hello world! Hello world! Hello world! Hello world! Hello world! Hello world! Hello world! Hello world! Hello world! Hello world! Hello world! Hello world! Hello world! Hello world! Hello world! Hello world! Hello world! Hello world! Hello world! Hello world! Hello world! Hello world! Hello world! Hello world! Hello world! Hello world! Hello world! Hello world! Hello world! Hello world! Hello world! Hello world! Hello world! Hello world! Hello world! Hello world! Hello world! Hello world! Hello world! Hello world! Hello world! Hello world! Hello world! Hello world! Hello world! '"
      ]
     },
     "execution_count": 1,
     "metadata": {},
     "output_type": "execute_result"
    }
   ],
   "source": [
    "x = 'Hello world! '\n",
    "x * 100"
   ]
  },
  {
   "cell_type": "code",
   "execution_count": null,
   "id": "d81324c0",
   "metadata": {},
   "outputs": [],
   "source": []
  }
 ],
 "metadata": {
  "kernelspec": {
   "display_name": "Python 3 (ipykernel)",
   "language": "python",
   "name": "python3"
  },
  "language_info": {
   "codemirror_mode": {
    "name": "ipython",
    "version": 3
   },
   "file_extension": ".py",
   "mimetype": "text/x-python",
   "name": "python",
   "nbconvert_exporter": "python",
   "pygments_lexer": "ipython3",
   "version": "3.11.5"
  }
 },
 "nbformat": 4,
 "nbformat_minor": 5
}
