{
 "cells": [
  {
   "cell_type": "markdown",
   "id": "3383ed5f",
   "metadata": {},
   "source": [
    "### Python Fundamentals for Data Analysts\n",
    "# Exercise 4.10 Part A: Regional segmentation and Profiling"
   ]
  },
  {
   "cell_type": "markdown",
   "id": "d9564717",
   "metadata": {},
   "source": [
    "**Content:**\n",
    "    \n",
    "1. Performing Regional Segmentation\n",
    "2. Spending habits in different US Regions\n",
    "3. Exclude low-activity customers"
   ]
  },
  {
   "cell_type": "code",
   "execution_count": 34,
   "id": "be5abf4a",
   "metadata": {},
   "outputs": [],
   "source": [
    "import pandas as pd\n",
    "import numpy as np\n",
    "import os\n",
    "import matplotlib.pyplot as plt\n",
    "import seaborn as sns\n",
    "import scipy\n",
    "from datetime import datetime"
   ]
  },
  {
   "cell_type": "code",
   "execution_count": 35,
   "id": "914b3980",
   "metadata": {},
   "outputs": [],
   "source": [
    "# Set path to access data files\n",
    "path = r'C:\\Users\\tsoew\\OneDrive\\Desktop\\InstaCart Basket Analysis'"
   ]
  },
  {
   "cell_type": "code",
   "execution_count": 36,
   "id": "00fa5e92",
   "metadata": {},
   "outputs": [],
   "source": [
    "# Import latest version of ords_prods_combined data\n",
    "df = pd.read_pickle(os.path.join(path, 'Data', 'Prepared Data', 'ord_prod_combined_6.pkl'))"
   ]
  },
  {
   "cell_type": "code",
   "execution_count": 37,
   "id": "960dd8e5",
   "metadata": {},
   "outputs": [
    {
     "data": {
      "text/plain": [
       "(32404859, 33)"
      ]
     },
     "execution_count": 37,
     "metadata": {},
     "output_type": "execute_result"
    }
   ],
   "source": [
    "df.shape"
   ]
  },
  {
   "cell_type": "code",
   "execution_count": 38,
   "id": "8ed97a65",
   "metadata": {},
   "outputs": [
    {
     "data": {
      "text/html": [
       "<div>\n",
       "<style scoped>\n",
       "    .dataframe tbody tr th:only-of-type {\n",
       "        vertical-align: middle;\n",
       "    }\n",
       "\n",
       "    .dataframe tbody tr th {\n",
       "        vertical-align: top;\n",
       "    }\n",
       "\n",
       "    .dataframe thead th {\n",
       "        text-align: right;\n",
       "    }\n",
       "</style>\n",
       "<table border=\"1\" class=\"dataframe\">\n",
       "  <thead>\n",
       "    <tr style=\"text-align: right;\">\n",
       "      <th></th>\n",
       "      <th>product_id</th>\n",
       "      <th>product_name</th>\n",
       "      <th>aisle_id</th>\n",
       "      <th>department_id</th>\n",
       "      <th>prices</th>\n",
       "      <th>order_id</th>\n",
       "      <th>user_id</th>\n",
       "      <th>order_number</th>\n",
       "      <th>orders_day_of_week</th>\n",
       "      <th>order_hour_of_day</th>\n",
       "      <th>...</th>\n",
       "      <th>freq_customer</th>\n",
       "      <th>first_name</th>\n",
       "      <th>last_name</th>\n",
       "      <th>gender</th>\n",
       "      <th>state</th>\n",
       "      <th>age</th>\n",
       "      <th>date_join</th>\n",
       "      <th>dependents</th>\n",
       "      <th>married</th>\n",
       "      <th>income</th>\n",
       "    </tr>\n",
       "  </thead>\n",
       "  <tbody>\n",
       "    <tr>\n",
       "      <th>0</th>\n",
       "      <td>1</td>\n",
       "      <td>Chocolate Sandwich Cookies</td>\n",
       "      <td>61</td>\n",
       "      <td>19</td>\n",
       "      <td>5.8</td>\n",
       "      <td>3139998</td>\n",
       "      <td>138</td>\n",
       "      <td>28</td>\n",
       "      <td>6</td>\n",
       "      <td>11</td>\n",
       "      <td>...</td>\n",
       "      <td>Frequent customer</td>\n",
       "      <td>Charles</td>\n",
       "      <td>Cox</td>\n",
       "      <td>Male</td>\n",
       "      <td>Minnesota</td>\n",
       "      <td>81</td>\n",
       "      <td>8/1/2019</td>\n",
       "      <td>1</td>\n",
       "      <td>married</td>\n",
       "      <td>49620</td>\n",
       "    </tr>\n",
       "    <tr>\n",
       "      <th>1</th>\n",
       "      <td>1</td>\n",
       "      <td>Chocolate Sandwich Cookies</td>\n",
       "      <td>61</td>\n",
       "      <td>19</td>\n",
       "      <td>5.8</td>\n",
       "      <td>1977647</td>\n",
       "      <td>138</td>\n",
       "      <td>30</td>\n",
       "      <td>6</td>\n",
       "      <td>17</td>\n",
       "      <td>...</td>\n",
       "      <td>Frequent customer</td>\n",
       "      <td>Charles</td>\n",
       "      <td>Cox</td>\n",
       "      <td>Male</td>\n",
       "      <td>Minnesota</td>\n",
       "      <td>81</td>\n",
       "      <td>8/1/2019</td>\n",
       "      <td>1</td>\n",
       "      <td>married</td>\n",
       "      <td>49620</td>\n",
       "    </tr>\n",
       "    <tr>\n",
       "      <th>2</th>\n",
       "      <td>907</td>\n",
       "      <td>Premium Sliced Bacon</td>\n",
       "      <td>106</td>\n",
       "      <td>12</td>\n",
       "      <td>20.0</td>\n",
       "      <td>3160996</td>\n",
       "      <td>138</td>\n",
       "      <td>1</td>\n",
       "      <td>5</td>\n",
       "      <td>13</td>\n",
       "      <td>...</td>\n",
       "      <td>Frequent customer</td>\n",
       "      <td>Charles</td>\n",
       "      <td>Cox</td>\n",
       "      <td>Male</td>\n",
       "      <td>Minnesota</td>\n",
       "      <td>81</td>\n",
       "      <td>8/1/2019</td>\n",
       "      <td>1</td>\n",
       "      <td>married</td>\n",
       "      <td>49620</td>\n",
       "    </tr>\n",
       "    <tr>\n",
       "      <th>3</th>\n",
       "      <td>907</td>\n",
       "      <td>Premium Sliced Bacon</td>\n",
       "      <td>106</td>\n",
       "      <td>12</td>\n",
       "      <td>20.0</td>\n",
       "      <td>2254091</td>\n",
       "      <td>138</td>\n",
       "      <td>10</td>\n",
       "      <td>5</td>\n",
       "      <td>14</td>\n",
       "      <td>...</td>\n",
       "      <td>Frequent customer</td>\n",
       "      <td>Charles</td>\n",
       "      <td>Cox</td>\n",
       "      <td>Male</td>\n",
       "      <td>Minnesota</td>\n",
       "      <td>81</td>\n",
       "      <td>8/1/2019</td>\n",
       "      <td>1</td>\n",
       "      <td>married</td>\n",
       "      <td>49620</td>\n",
       "    </tr>\n",
       "    <tr>\n",
       "      <th>4</th>\n",
       "      <td>1000</td>\n",
       "      <td>Apricots</td>\n",
       "      <td>18</td>\n",
       "      <td>10</td>\n",
       "      <td>12.9</td>\n",
       "      <td>505689</td>\n",
       "      <td>138</td>\n",
       "      <td>9</td>\n",
       "      <td>6</td>\n",
       "      <td>12</td>\n",
       "      <td>...</td>\n",
       "      <td>Frequent customer</td>\n",
       "      <td>Charles</td>\n",
       "      <td>Cox</td>\n",
       "      <td>Male</td>\n",
       "      <td>Minnesota</td>\n",
       "      <td>81</td>\n",
       "      <td>8/1/2019</td>\n",
       "      <td>1</td>\n",
       "      <td>married</td>\n",
       "      <td>49620</td>\n",
       "    </tr>\n",
       "  </tbody>\n",
       "</table>\n",
       "<p>5 rows × 33 columns</p>\n",
       "</div>"
      ],
      "text/plain": [
       "   product_id                product_name  aisle_id  department_id  prices  \\\n",
       "0           1  Chocolate Sandwich Cookies        61             19     5.8   \n",
       "1           1  Chocolate Sandwich Cookies        61             19     5.8   \n",
       "2         907        Premium Sliced Bacon       106             12    20.0   \n",
       "3         907        Premium Sliced Bacon       106             12    20.0   \n",
       "4        1000                    Apricots        18             10    12.9   \n",
       "\n",
       "   order_id  user_id  order_number  orders_day_of_week  order_hour_of_day  \\\n",
       "0   3139998      138            28                   6                 11   \n",
       "1   1977647      138            30                   6                 17   \n",
       "2   3160996      138             1                   5                 13   \n",
       "3   2254091      138            10                   5                 14   \n",
       "4    505689      138             9                   6                 12   \n",
       "\n",
       "   ...      freq_customer  first_name  last_name gender      state age  \\\n",
       "0  ...  Frequent customer     Charles        Cox   Male  Minnesota  81   \n",
       "1  ...  Frequent customer     Charles        Cox   Male  Minnesota  81   \n",
       "2  ...  Frequent customer     Charles        Cox   Male  Minnesota  81   \n",
       "3  ...  Frequent customer     Charles        Cox   Male  Minnesota  81   \n",
       "4  ...  Frequent customer     Charles        Cox   Male  Minnesota  81   \n",
       "\n",
       "  date_join dependents  married income  \n",
       "0  8/1/2019          1  married  49620  \n",
       "1  8/1/2019          1  married  49620  \n",
       "2  8/1/2019          1  married  49620  \n",
       "3  8/1/2019          1  married  49620  \n",
       "4  8/1/2019          1  married  49620  \n",
       "\n",
       "[5 rows x 33 columns]"
      ]
     },
     "execution_count": 38,
     "metadata": {},
     "output_type": "execute_result"
    }
   ],
   "source": [
    "df.head()"
   ]
  },
  {
   "cell_type": "markdown",
   "id": "bc538e2a",
   "metadata": {},
   "source": [
    "**Security Implication:** The data now contains customer name, age and income, which are sensitive information to be shared with public. Whenever we release data to public these three columns should be hidden."
   ]
  },
  {
   "cell_type": "markdown",
   "id": "30a90105",
   "metadata": {},
   "source": [
    "### Step 1: Performing Regional Segmentation"
   ]
  },
  {
   "cell_type": "markdown",
   "id": "c7f70aeb",
   "metadata": {},
   "source": [
    "The Instacart officers are interested in comparing customer behavior in different geographic areas. Create a regional segmentation of the data. You’ll need to create a “Region” column based on the “State” column from your customers data set."
   ]
  },
  {
   "cell_type": "code",
   "execution_count": 39,
   "id": "52a7f675",
   "metadata": {},
   "outputs": [],
   "source": [
    "# Assign states to Regions based on the following site:\n",
    "# https://simple.wikipedia.org/wiki/List_of_regions_of_the_United_States\n",
    "\n",
    "Region_1 = ['Maine','New Hampshire','Vermont','Massachusetts','Rhode Island','Connecticut','New York','Pennsylvania','New Jersey']\n",
    "Region_2 = ['Wisconsin','Michigan','Illinois','Indiana','Ohio','North Dakota','South Dakota','Nebraska','Kansas','Minnesota','Iowa','Missouri']\n",
    "Region_3 = ['Delaware','Maryland','District of Columbia','Virginia','West Virginia','North Carolina',\n",
    "            'South Carolina','Georgia','Florida','Kentucky','Tennessee','Mississippi','Alabama',\n",
    "            'Oklahoma','Texas','Arkansas','Louisiana']\n",
    "Region_4 = ['Idaho','Montana','Wyoming','Nevada','Utah','Colorado','Arizona','New Mexico','Alaska',\n",
    "            'Washington','Oregon','California','Hawaii']"
   ]
  },
  {
   "cell_type": "code",
   "execution_count": 40,
   "id": "286bfb72",
   "metadata": {},
   "outputs": [],
   "source": [
    "# Running the For Loop to segment states into 4 regions\n",
    "\n",
    "result = []\n",
    "\n",
    "for value in df[\"state\"]:\n",
    "  if value in Region_1:\n",
    "    result.append(\"Region_1\")\n",
    "  elif value in Region_2:\n",
    "    result.append(\"Region_2\")\n",
    "  elif value in Region_3:\n",
    "    result.append(\"Region_3\")\n",
    "  elif value in Region_4:\n",
    "    result.append(\"Region_4\")\n",
    "  else:\n",
    "    result.append(\"Unknown\")"
   ]
  },
  {
   "cell_type": "code",
   "execution_count": 41,
   "id": "2f994421",
   "metadata": {},
   "outputs": [],
   "source": [
    "# Assign result in a new column called 'region'\n",
    "df['region'] = result"
   ]
  },
  {
   "cell_type": "code",
   "execution_count": 42,
   "id": "b0139c63",
   "metadata": {},
   "outputs": [
    {
     "data": {
      "text/plain": [
       "region\n",
       "Region_3    10791885\n",
       "Region_4     8292913\n",
       "Region_2     7597325\n",
       "Region_1     5722736\n",
       "Name: count, dtype: int64"
      ]
     },
     "execution_count": 42,
     "metadata": {},
     "output_type": "execute_result"
    }
   ],
   "source": [
    "# Checking the new column frequency\n",
    "df['region'].value_counts()"
   ]
  },
  {
   "cell_type": "markdown",
   "id": "db73cf46",
   "metadata": {},
   "source": [
    "### Step 2: Use crosstab to know spending habits in different US regions"
   ]
  },
  {
   "cell_type": "markdown",
   "id": "f00d19e7",
   "metadata": {},
   "source": [
    "Determine whether there’s a difference in spending habits between the different U.S. regions. (Hint: You can do this by crossing the variable you just created with the spending flag.)"
   ]
  },
  {
   "cell_type": "code",
   "execution_count": 71,
   "id": "307563ff",
   "metadata": {},
   "outputs": [],
   "source": [
    "# Use crosstab to check spending habits in different regions\n",
    "crosstab = pd.crosstab(df['region'], df['spend_flag'], dropna = False)"
   ]
  },
  {
   "cell_type": "code",
   "execution_count": 72,
   "id": "4780d7cd",
   "metadata": {},
   "outputs": [
    {
     "data": {
      "text/html": [
       "<div>\n",
       "<style scoped>\n",
       "    .dataframe tbody tr th:only-of-type {\n",
       "        vertical-align: middle;\n",
       "    }\n",
       "\n",
       "    .dataframe tbody tr th {\n",
       "        vertical-align: top;\n",
       "    }\n",
       "\n",
       "    .dataframe thead th {\n",
       "        text-align: right;\n",
       "    }\n",
       "</style>\n",
       "<table border=\"1\" class=\"dataframe\">\n",
       "  <thead>\n",
       "    <tr style=\"text-align: right;\">\n",
       "      <th>spend_flag</th>\n",
       "      <th>High spender</th>\n",
       "      <th>Low spender</th>\n",
       "      <th>Medium spender</th>\n",
       "    </tr>\n",
       "    <tr>\n",
       "      <th>region</th>\n",
       "      <th></th>\n",
       "      <th></th>\n",
       "      <th></th>\n",
       "    </tr>\n",
       "  </thead>\n",
       "  <tbody>\n",
       "    <tr>\n",
       "      <th>Region_1</th>\n",
       "      <td>1458071</td>\n",
       "      <td>361592</td>\n",
       "      <td>3645022</td>\n",
       "    </tr>\n",
       "    <tr>\n",
       "      <th>Region_2</th>\n",
       "      <td>1947166</td>\n",
       "      <td>474673</td>\n",
       "      <td>4839674</td>\n",
       "    </tr>\n",
       "    <tr>\n",
       "      <th>Region_3</th>\n",
       "      <td>2790287</td>\n",
       "      <td>671523</td>\n",
       "      <td>6849329</td>\n",
       "    </tr>\n",
       "    <tr>\n",
       "      <th>Region_4</th>\n",
       "      <td>2097756</td>\n",
       "      <td>517884</td>\n",
       "      <td>5311587</td>\n",
       "    </tr>\n",
       "  </tbody>\n",
       "</table>\n",
       "</div>"
      ],
      "text/plain": [
       "spend_flag  High spender  Low spender  Medium spender\n",
       "region                                               \n",
       "Region_1         1458071       361592         3645022\n",
       "Region_2         1947166       474673         4839674\n",
       "Region_3         2790287       671523         6849329\n",
       "Region_4         2097756       517884         5311587"
      ]
     },
     "execution_count": 72,
     "metadata": {},
     "output_type": "execute_result"
    }
   ],
   "source": [
    "crosstab.head()"
   ]
  },
  {
   "cell_type": "code",
   "execution_count": 73,
   "id": "dcb540dd",
   "metadata": {},
   "outputs": [
    {
     "data": {
      "image/png": "[encoded data removed]",
      "text/plain": [
       "<Figure size 640x480 with 1 Axes>"
      ]
     },
     "metadata": {},
     "output_type": "display_data"
    }
   ],
   "source": [
    "#Creating barplot\n",
    "bar_region_spend = crosstab.plot.bar(rot=0)"
   ]
  },
  {
   "cell_type": "code",
   "execution_count": 74,
   "id": "2c4657eb",
   "metadata": {},
   "outputs": [],
   "source": [
    "# Save the image into a file\n",
    "bar_region_spend.figure.savefig(os.path.join(path, 'Analysis','Visualizations', 'bar_income_spend.png'))"
   ]
  },
  {
   "cell_type": "markdown",
   "id": "04f0bb1b",
   "metadata": {},
   "source": [
    "### Step 3: Create exclusion flag to exclude low-activity customers"
   ]
  },
  {
   "cell_type": "markdown",
   "id": "4c568bda",
   "metadata": {},
   "source": [
    "The Instacart CFO isn’t interested in customers who don’t generate much revenue for the app. Create an exclusion flag for low-activity customers (customers with less than 5 orders) and exclude them from the data. Make sure you export this sample."
   ]
  },
  {
   "cell_type": "code",
   "execution_count": 46,
   "id": "a06daf2d",
   "metadata": {},
   "outputs": [],
   "source": [
    "# Use loc function to assign labels to a new column\n",
    "df.loc[df['max_order'] < 5, 'activity_flag'] = 'Low-activity'\n",
    "df.loc[df['max_order'] >= 5, 'activity_flag'] = 'High-activity'"
   ]
  },
  {
   "cell_type": "code",
   "execution_count": 47,
   "id": "57ef416b",
   "metadata": {},
   "outputs": [
    {
     "data": {
      "text/plain": [
       "activity_flag\n",
       "High-activity    30964564\n",
       "Low-activity      1440295\n",
       "Name: count, dtype: int64"
      ]
     },
     "execution_count": 47,
     "metadata": {},
     "output_type": "execute_result"
    }
   ],
   "source": [
    "# Check frequencymax_order\n",
    "df['activity_flag'].value_counts()"
   ]
  },
  {
   "cell_type": "code",
   "execution_count": 48,
   "id": "4df49f2d",
   "metadata": {},
   "outputs": [
    {
     "data": {
      "text/plain": [
       "(30964564, 35)"
      ]
     },
     "execution_count": 48,
     "metadata": {},
     "output_type": "execute_result"
    }
   ],
   "source": [
    "# remove low activity customers\n",
    "df_new = df[df['activity_flag'] == 'High-activity']\n",
    "df_new.shape"
   ]
  },
  {
   "cell_type": "code",
   "execution_count": 49,
   "id": "f23311c4",
   "metadata": {},
   "outputs": [],
   "source": [
    "# release memory\n",
    "del df"
   ]
  },
  {
   "cell_type": "markdown",
   "id": "a0f9cc53",
   "metadata": {},
   "source": [
    "### Step 4:  Create customer profiling based on age, income, certain goods in the “department_id” column, and number of dependents."
   ]
  },
  {
   "cell_type": "markdown",
   "id": "112369d7",
   "metadata": {},
   "source": [
    "The marketing and business strategy units at Instacart want to create more-relevant marketing strategies for different products and are, thus, curious about customer profiling in their database. Create a profiling variable based on age, income, certain goods in the “department_id” column, and number of dependents. You might also use the “orders_day_of_week” and “order_hour_of_day” columns if you can think of a way they would impact customer profiles. (Hint: As an example, try thinking of what characteristics would lead you to the profile “Single adult” or “Young parent.”)"
   ]
  },
  {
   "cell_type": "markdown",
   "id": "f4467b72",
   "metadata": {},
   "source": [
    "### 4.a. Profiling #1: Income Level & Spending Habit"
   ]
  },
  {
   "cell_type": "markdown",
   "id": "4afa450b",
   "metadata": {},
   "source": [
    "#### Create \"income_flag\" to identify high, medium and low income customer\n",
    "1. Low income: less than 60k\n",
    "2. Medium income: between 60k and 150k\n",
    "3. High income: above 150k"
   ]
  },
  {
   "cell_type": "code",
   "execution_count": 50,
   "id": "fc7d5de7",
   "metadata": {},
   "outputs": [],
   "source": [
    "# Create income flag to group customers into high, medium and low income\n",
    "df_new.loc[df_new['income'] <= 60000, 'income_flag'] = 'Low income'\n",
    "df_new.loc[(df_new['income'] > 60000) & (df_new['income'] <= 150000), 'income_flag'] = 'Medium income'\n",
    "df_new.loc[df_new['income'] > 150000, 'income_flag'] = 'High income'"
   ]
  },
  {
   "cell_type": "code",
   "execution_count": 51,
   "id": "cacb7750",
   "metadata": {},
   "outputs": [
    {
     "data": {
      "text/plain": [
       "income_flag\n",
       "Medium income    21266729\n",
       "Low income        5803301\n",
       "High income       3894534\n",
       "Name: count, dtype: int64"
      ]
     },
     "execution_count": 51,
     "metadata": {},
     "output_type": "execute_result"
    }
   ],
   "source": [
    "# Check column frequency\n",
    "df_new['income_flag'].value_counts()"
   ]
  },
  {
   "cell_type": "markdown",
   "id": "ef0ba144",
   "metadata": {},
   "source": [
    "#### Create sum_per_order flag to provide the total of each order id. \n",
    "\n",
    "We will use this flag to identify how much the average total order per user.(This is will be our new average spending flag because the previous one did not take into account the sum total of each order)"
   ]
  },
  {
   "cell_type": "code",
   "execution_count": 52,
   "id": "75d2d9d8",
   "metadata": {
    "scrolled": true
   },
   "outputs": [
    {
     "name": "stderr",
     "output_type": "stream",
     "text": [
      "C:\\Users\\tsoew\\AppData\\Local\\Temp\\ipykernel_5052\\242836395.py:2: FutureWarning: The provided callable <function sum at 0x0000020300265120> is currently using SeriesGroupBy.sum. In a future version of pandas, the provided callable will be used directly. To keep current behavior pass the string \"sum\" instead.\n",
      "  df_new['sum_per_order'] = df_new.groupby(['order_id'])['prices'].transform(np.sum)\n"
     ]
    }
   ],
   "source": [
    "# Use transform function to assign the sum total of each order_id\n",
    "df_new['sum_per_order'] = df_new.groupby(['order_id'])['prices'].transform(np.sum)"
   ]
  },
  {
   "cell_type": "markdown",
   "id": "659f5efc",
   "metadata": {},
   "source": [
    "#### Refill \"avg_spend\" column with the average total order per user"
   ]
  },
  {
   "cell_type": "code",
   "execution_count": 53,
   "id": "4e29fe5c",
   "metadata": {},
   "outputs": [
    {
     "name": "stderr",
     "output_type": "stream",
     "text": [
      "C:\\Users\\tsoew\\AppData\\Local\\Temp\\ipykernel_5052\\3112944850.py:2: FutureWarning: The provided callable <function mean at 0x00000203002667A0> is currently using SeriesGroupBy.mean. In a future version of pandas, the provided callable will be used directly. To keep current behavior pass the string \"mean\" instead.\n",
      "  df_new['avg_spend'] = df_new.groupby(['user_id'])['sum_per_order'].transform(np.mean)\n"
     ]
    }
   ],
   "source": [
    "# Use transform function to assign the new result on average spending price for each user\n",
    "df_new['avg_spend'] = df_new.groupby(['user_id'])['sum_per_order'].transform(np.mean)"
   ]
  },
  {
   "cell_type": "markdown",
   "id": "3255b6d4",
   "metadata": {},
   "source": [
    "#### Reassign the \"spend_flag\" with Low, Medium, High spender, based on the new avg_spend\n",
    "1. Low spender: under 50 average per order\n",
    "2. Medium spender: between 50 and 150 average per order\n",
    "3. High spender: above 150 average per order"
   ]
  },
  {
   "cell_type": "code",
   "execution_count": 54,
   "id": "8e3b0dca",
   "metadata": {},
   "outputs": [],
   "source": [
    "# Use the loc function to assign labels to the new column\n",
    "df_new.loc[df_new['avg_spend'] < 50, 'spend_flag'] = 'Low spender'\n",
    "df_new.loc[(df_new['avg_spend'] >= 50) & (df_new['avg_spend'] < 150), 'spend_flag'] = 'Medium spender'\n",
    "df_new.loc[df_new['avg_spend'] >= 150, 'spend_flag'] = 'High spender'"
   ]
  },
  {
   "cell_type": "code",
   "execution_count": 55,
   "id": "627ca1f8",
   "metadata": {},
   "outputs": [
    {
     "data": {
      "text/plain": [
       "spend_flag\n",
       "Medium spender    20645612\n",
       "High spender       8293280\n",
       "Low spender        2025672\n",
       "Name: count, dtype: int64"
      ]
     },
     "execution_count": 55,
     "metadata": {},
     "output_type": "execute_result"
    }
   ],
   "source": [
    "# Check column frequency\n",
    "df_new['spend_flag'].value_counts()"
   ]
  },
  {
   "cell_type": "code",
   "execution_count": 56,
   "id": "dcdfabf4",
   "metadata": {},
   "outputs": [
    {
     "data": {
      "text/html": [
       "<div>\n",
       "<style scoped>\n",
       "    .dataframe tbody tr th:only-of-type {\n",
       "        vertical-align: middle;\n",
       "    }\n",
       "\n",
       "    .dataframe tbody tr th {\n",
       "        vertical-align: top;\n",
       "    }\n",
       "\n",
       "    .dataframe thead tr th {\n",
       "        text-align: left;\n",
       "    }\n",
       "\n",
       "    .dataframe thead tr:last-of-type th {\n",
       "        text-align: right;\n",
       "    }\n",
       "</style>\n",
       "<table border=\"1\" class=\"dataframe\">\n",
       "  <thead>\n",
       "    <tr>\n",
       "      <th></th>\n",
       "      <th colspan=\"4\" halign=\"left\">sum_per_order</th>\n",
       "    </tr>\n",
       "    <tr>\n",
       "      <th></th>\n",
       "      <th>max</th>\n",
       "      <th>min</th>\n",
       "      <th>mean</th>\n",
       "      <th>std</th>\n",
       "    </tr>\n",
       "    <tr>\n",
       "      <th>spend_flag</th>\n",
       "      <th></th>\n",
       "      <th></th>\n",
       "      <th></th>\n",
       "      <th></th>\n",
       "    </tr>\n",
       "  </thead>\n",
       "  <tbody>\n",
       "    <tr>\n",
       "      <th>High spender</th>\n",
       "      <td>1092.2</td>\n",
       "      <td>0.0</td>\n",
       "      <td>195.984664</td>\n",
       "      <td>81.913881</td>\n",
       "    </tr>\n",
       "    <tr>\n",
       "      <th>Low spender</th>\n",
       "      <td>171.2</td>\n",
       "      <td>0.0</td>\n",
       "      <td>36.657581</td>\n",
       "      <td>19.881085</td>\n",
       "    </tr>\n",
       "    <tr>\n",
       "      <th>Medium spender</th>\n",
       "      <td>544.6</td>\n",
       "      <td>0.0</td>\n",
       "      <td>100.997725</td>\n",
       "      <td>49.262983</td>\n",
       "    </tr>\n",
       "  </tbody>\n",
       "</table>\n",
       "</div>"
      ],
      "text/plain": [
       "               sum_per_order                            \n",
       "                         max  min        mean        std\n",
       "spend_flag                                              \n",
       "High spender          1092.2  0.0  195.984664  81.913881\n",
       "Low spender            171.2  0.0   36.657581  19.881085\n",
       "Medium spender         544.6  0.0  100.997725  49.262983"
      ]
     },
     "execution_count": 56,
     "metadata": {},
     "output_type": "execute_result"
    }
   ],
   "source": [
    "# Get basic statistics **\n",
    "df_new.groupby('spend_flag').agg({'sum_per_order': ['max', 'min', 'mean','std']})"
   ]
  },
  {
   "cell_type": "code",
   "execution_count": 57,
   "id": "1a3a2c5a",
   "metadata": {
    "scrolled": true
   },
   "outputs": [
    {
     "data": {
      "text/html": [
       "<div>\n",
       "<style scoped>\n",
       "    .dataframe tbody tr th:only-of-type {\n",
       "        vertical-align: middle;\n",
       "    }\n",
       "\n",
       "    .dataframe tbody tr th {\n",
       "        vertical-align: top;\n",
       "    }\n",
       "\n",
       "    .dataframe thead tr th {\n",
       "        text-align: left;\n",
       "    }\n",
       "\n",
       "    .dataframe thead tr:last-of-type th {\n",
       "        text-align: right;\n",
       "    }\n",
       "</style>\n",
       "<table border=\"1\" class=\"dataframe\">\n",
       "  <thead>\n",
       "    <tr>\n",
       "      <th></th>\n",
       "      <th colspan=\"4\" halign=\"left\">sum_per_order</th>\n",
       "    </tr>\n",
       "    <tr>\n",
       "      <th></th>\n",
       "      <th>max</th>\n",
       "      <th>min</th>\n",
       "      <th>mean</th>\n",
       "      <th>std</th>\n",
       "    </tr>\n",
       "    <tr>\n",
       "      <th>income_flag</th>\n",
       "      <th></th>\n",
       "      <th></th>\n",
       "      <th></th>\n",
       "      <th></th>\n",
       "    </tr>\n",
       "  </thead>\n",
       "  <tbody>\n",
       "    <tr>\n",
       "      <th>High income</th>\n",
       "      <td>1047.4</td>\n",
       "      <td>0.0</td>\n",
       "      <td>125.539314</td>\n",
       "      <td>74.218790</td>\n",
       "    </tr>\n",
       "    <tr>\n",
       "      <th>Low income</th>\n",
       "      <td>875.0</td>\n",
       "      <td>1.0</td>\n",
       "      <td>103.435406</td>\n",
       "      <td>73.129723</td>\n",
       "    </tr>\n",
       "    <tr>\n",
       "      <th>Medium income</th>\n",
       "      <td>1092.2</td>\n",
       "      <td>0.0</td>\n",
       "      <td>126.751409</td>\n",
       "      <td>75.363961</td>\n",
       "    </tr>\n",
       "  </tbody>\n",
       "</table>\n",
       "</div>"
      ],
      "text/plain": [
       "              sum_per_order                            \n",
       "                        max  min        mean        std\n",
       "income_flag                                            \n",
       "High income          1047.4  0.0  125.539314  74.218790\n",
       "Low income            875.0  1.0  103.435406  73.129723\n",
       "Medium income        1092.2  0.0  126.751409  75.363961"
      ]
     },
     "execution_count": 57,
     "metadata": {},
     "output_type": "execute_result"
    }
   ],
   "source": [
    "# Get the statistics of total order from income level perspective\n",
    "df_new.groupby('income_flag').agg({'sum_per_order': ['max', 'min', 'mean','std']})\n"
   ]
  },
  {
   "cell_type": "markdown",
   "id": "fa137de3",
   "metadata": {},
   "source": [
    "<div class=\"alert alert-block alert-info\">\n",
    "\n",
    "__Note:__<br>\n",
    "    \n",
    "It is interesting to note here that the **Medium Income** Customers have **higher average of spending** compared to **High Income** Customer.\n",
    "\n",
    "</div>"
   ]
  },
  {
   "cell_type": "markdown",
   "id": "849ffc32",
   "metadata": {},
   "source": [
    "#### Performing crosstab function to know the relationship between Income Level and Spending Level"
   ]
  },
  {
   "cell_type": "code",
   "execution_count": 58,
   "id": "353e50f0",
   "metadata": {},
   "outputs": [],
   "source": [
    "crosstab = pd.crosstab(df_new['income_flag'], df_new['spend_flag'], dropna = False)"
   ]
  },
  {
   "cell_type": "code",
   "execution_count": 59,
   "id": "6bd76060",
   "metadata": {},
   "outputs": [
    {
     "data": {
      "text/html": [
       "<div>\n",
       "<style scoped>\n",
       "    .dataframe tbody tr th:only-of-type {\n",
       "        vertical-align: middle;\n",
       "    }\n",
       "\n",
       "    .dataframe tbody tr th {\n",
       "        vertical-align: top;\n",
       "    }\n",
       "\n",
       "    .dataframe thead th {\n",
       "        text-align: right;\n",
       "    }\n",
       "</style>\n",
       "<table border=\"1\" class=\"dataframe\">\n",
       "  <thead>\n",
       "    <tr style=\"text-align: right;\">\n",
       "      <th>spend_flag</th>\n",
       "      <th>High spender</th>\n",
       "      <th>Low spender</th>\n",
       "      <th>Medium spender</th>\n",
       "    </tr>\n",
       "    <tr>\n",
       "      <th>income_flag</th>\n",
       "      <th></th>\n",
       "      <th></th>\n",
       "      <th></th>\n",
       "    </tr>\n",
       "  </thead>\n",
       "  <tbody>\n",
       "    <tr>\n",
       "      <th>High income</th>\n",
       "      <td>1078582</td>\n",
       "      <td>155872</td>\n",
       "      <td>2660080</td>\n",
       "    </tr>\n",
       "    <tr>\n",
       "      <th>Low income</th>\n",
       "      <td>1073949</td>\n",
       "      <td>977296</td>\n",
       "      <td>3752056</td>\n",
       "    </tr>\n",
       "    <tr>\n",
       "      <th>Medium income</th>\n",
       "      <td>6140749</td>\n",
       "      <td>892504</td>\n",
       "      <td>14233476</td>\n",
       "    </tr>\n",
       "  </tbody>\n",
       "</table>\n",
       "</div>"
      ],
      "text/plain": [
       "spend_flag     High spender  Low spender  Medium spender\n",
       "income_flag                                             \n",
       "High income         1078582       155872         2660080\n",
       "Low income          1073949       977296         3752056\n",
       "Medium income       6140749       892504        14233476"
      ]
     },
     "execution_count": 59,
     "metadata": {},
     "output_type": "execute_result"
    }
   ],
   "source": [
    "crosstab.head()"
   ]
  },
  {
   "cell_type": "markdown",
   "id": "b013a005",
   "metadata": {},
   "source": [
    "<div class=\"alert alert-block alert-info\">\n",
    "\n",
    "__Couple interesting facts:__ <br>\n",
    "1. Some Low Income customers have High Spending habit.<br>\n",
    "2. Some High Income customers have Low Spending habit.<br>\n",
    "3. Most of the High Spending Customers are not from High Income, but from Medium Income level.\n",
    "\n",
    "</div>"
   ]
  },
  {
   "cell_type": "code",
   "execution_count": 61,
   "id": "5fa8e1ed",
   "metadata": {},
   "outputs": [
    {
     "data": {
      "image/png": "[encoded data removed]",
      "text/plain": [
       "<Figure size 640x480 with 1 Axes>"
      ]
     },
     "metadata": {},
     "output_type": "display_data"
    }
   ],
   "source": [
    "#Creating barplot\n",
    "bar_income_spend = crosstab.plot.bar(rot=0)"
   ]
  },
  {
   "cell_type": "code",
   "execution_count": 62,
   "id": "8e4d2e99",
   "metadata": {},
   "outputs": [],
   "source": [
    "# Save the image into a file\n",
    "bar_income_spend.figure.savefig(os.path.join(path, 'Analysis','Visualizations', 'bar_income_spend.png'))"
   ]
  },
  {
   "cell_type": "markdown",
   "id": "56816d45",
   "metadata": {},
   "source": [
    "#### Create Scatterplot to display relationship between income level and total per order"
   ]
  },
  {
   "cell_type": "code",
   "execution_count": 27,
   "id": "bd4fa052",
   "metadata": {},
   "outputs": [
    {
     "name": "stdout",
     "output_type": "stream",
     "text": [
      "Start time: 14:23:56\n",
      "End time: 14:24:05\n"
     ]
    },
    {
     "data": {
      "text/plain": [
       "Text(0, 0.5, 'Average Spending per Order')"
      ]
     },
     "execution_count": 27,
     "metadata": {},
     "output_type": "execute_result"
    },
    {
     "data": {
      "image/png": "[encoded data removed]",
      "text/plain": [
       "<Figure size 640x480 with 1 Axes>"
      ]
     },
     "metadata": {},
     "output_type": "display_data"
    }
   ],
   "source": [
    "print ('Start time: ' + datetime.now().strftime(\"%H:%M:%S\"))\n",
    "scatter_income_ordersum = sns.scatterplot(x = 'income', y = 'avg_spend',data = df_new)\n",
    "print ('End time: ' + datetime.now().strftime(\"%H:%M:%S\"))\n",
    "\n",
    "plt.title('Customer Spending based on Income Level')\n",
    "plt.xlabel('Income Level')\n",
    "plt.ylabel('Average Spending per Order')"
   ]
  },
  {
   "cell_type": "markdown",
   "id": "7d6ac63d",
   "metadata": {},
   "source": [
    "<div class=\"alert alert-block alert-info\">\n",
    "\n",
    "**Note:**\n",
    "1. The graph shows that the highest spending level (above $400 average order) are coming from customers under 200k income level.\n",
    "2. Also the concentration of most orders are coming from Low and Medium Income customers.\n",
    "\n",
    "</div>"
   ]
  },
  {
   "cell_type": "code",
   "execution_count": 28,
   "id": "38529c0f",
   "metadata": {},
   "outputs": [],
   "source": [
    "# Save the image into a file\n",
    "scatter_income_ordersum.figure.savefig(os.path.join(path, 'Analysis','Visualizations', 'scatter_income_spending.png'))"
   ]
  },
  {
   "cell_type": "code",
   "execution_count": 29,
   "id": "257e00c7",
   "metadata": {},
   "outputs": [
    {
     "data": {
      "text/html": [
       "<div>\n",
       "<style scoped>\n",
       "    .dataframe tbody tr th:only-of-type {\n",
       "        vertical-align: middle;\n",
       "    }\n",
       "\n",
       "    .dataframe tbody tr th {\n",
       "        vertical-align: top;\n",
       "    }\n",
       "\n",
       "    .dataframe thead th {\n",
       "        text-align: right;\n",
       "    }\n",
       "</style>\n",
       "<table border=\"1\" class=\"dataframe\">\n",
       "  <thead>\n",
       "    <tr style=\"text-align: right;\">\n",
       "      <th></th>\n",
       "      <th>product_id</th>\n",
       "      <th>product_name</th>\n",
       "      <th>aisle_id</th>\n",
       "      <th>department_id</th>\n",
       "      <th>prices</th>\n",
       "      <th>order_id</th>\n",
       "      <th>user_id</th>\n",
       "      <th>order_number</th>\n",
       "      <th>orders_day_of_week</th>\n",
       "      <th>order_hour_of_day</th>\n",
       "      <th>...</th>\n",
       "      <th>state</th>\n",
       "      <th>age</th>\n",
       "      <th>date_join</th>\n",
       "      <th>dependents</th>\n",
       "      <th>married</th>\n",
       "      <th>income</th>\n",
       "      <th>region</th>\n",
       "      <th>activity_flag</th>\n",
       "      <th>income_flag</th>\n",
       "      <th>sum_per_order</th>\n",
       "    </tr>\n",
       "  </thead>\n",
       "  <tbody>\n",
       "    <tr>\n",
       "      <th>0</th>\n",
       "      <td>1</td>\n",
       "      <td>Chocolate Sandwich Cookies</td>\n",
       "      <td>61</td>\n",
       "      <td>19</td>\n",
       "      <td>5.8</td>\n",
       "      <td>3139998</td>\n",
       "      <td>138</td>\n",
       "      <td>28</td>\n",
       "      <td>6</td>\n",
       "      <td>11</td>\n",
       "      <td>...</td>\n",
       "      <td>Minnesota</td>\n",
       "      <td>81</td>\n",
       "      <td>8/1/2019</td>\n",
       "      <td>1</td>\n",
       "      <td>married</td>\n",
       "      <td>49620</td>\n",
       "      <td>Region_2</td>\n",
       "      <td>High-activity</td>\n",
       "      <td>Low income</td>\n",
       "      <td>34.9</td>\n",
       "    </tr>\n",
       "    <tr>\n",
       "      <th>1</th>\n",
       "      <td>1</td>\n",
       "      <td>Chocolate Sandwich Cookies</td>\n",
       "      <td>61</td>\n",
       "      <td>19</td>\n",
       "      <td>5.8</td>\n",
       "      <td>1977647</td>\n",
       "      <td>138</td>\n",
       "      <td>30</td>\n",
       "      <td>6</td>\n",
       "      <td>17</td>\n",
       "      <td>...</td>\n",
       "      <td>Minnesota</td>\n",
       "      <td>81</td>\n",
       "      <td>8/1/2019</td>\n",
       "      <td>1</td>\n",
       "      <td>married</td>\n",
       "      <td>49620</td>\n",
       "      <td>Region_2</td>\n",
       "      <td>High-activity</td>\n",
       "      <td>Low income</td>\n",
       "      <td>33.9</td>\n",
       "    </tr>\n",
       "    <tr>\n",
       "      <th>2</th>\n",
       "      <td>907</td>\n",
       "      <td>Premium Sliced Bacon</td>\n",
       "      <td>106</td>\n",
       "      <td>12</td>\n",
       "      <td>20.0</td>\n",
       "      <td>3160996</td>\n",
       "      <td>138</td>\n",
       "      <td>1</td>\n",
       "      <td>5</td>\n",
       "      <td>13</td>\n",
       "      <td>...</td>\n",
       "      <td>Minnesota</td>\n",
       "      <td>81</td>\n",
       "      <td>8/1/2019</td>\n",
       "      <td>1</td>\n",
       "      <td>married</td>\n",
       "      <td>49620</td>\n",
       "      <td>Region_2</td>\n",
       "      <td>High-activity</td>\n",
       "      <td>Low income</td>\n",
       "      <td>78.8</td>\n",
       "    </tr>\n",
       "    <tr>\n",
       "      <th>3</th>\n",
       "      <td>907</td>\n",
       "      <td>Premium Sliced Bacon</td>\n",
       "      <td>106</td>\n",
       "      <td>12</td>\n",
       "      <td>20.0</td>\n",
       "      <td>2254091</td>\n",
       "      <td>138</td>\n",
       "      <td>10</td>\n",
       "      <td>5</td>\n",
       "      <td>14</td>\n",
       "      <td>...</td>\n",
       "      <td>Minnesota</td>\n",
       "      <td>81</td>\n",
       "      <td>8/1/2019</td>\n",
       "      <td>1</td>\n",
       "      <td>married</td>\n",
       "      <td>49620</td>\n",
       "      <td>Region_2</td>\n",
       "      <td>High-activity</td>\n",
       "      <td>Low income</td>\n",
       "      <td>50.2</td>\n",
       "    </tr>\n",
       "    <tr>\n",
       "      <th>4</th>\n",
       "      <td>1000</td>\n",
       "      <td>Apricots</td>\n",
       "      <td>18</td>\n",
       "      <td>10</td>\n",
       "      <td>12.9</td>\n",
       "      <td>505689</td>\n",
       "      <td>138</td>\n",
       "      <td>9</td>\n",
       "      <td>6</td>\n",
       "      <td>12</td>\n",
       "      <td>...</td>\n",
       "      <td>Minnesota</td>\n",
       "      <td>81</td>\n",
       "      <td>8/1/2019</td>\n",
       "      <td>1</td>\n",
       "      <td>married</td>\n",
       "      <td>49620</td>\n",
       "      <td>Region_2</td>\n",
       "      <td>High-activity</td>\n",
       "      <td>Low income</td>\n",
       "      <td>40.9</td>\n",
       "    </tr>\n",
       "  </tbody>\n",
       "</table>\n",
       "<p>5 rows × 37 columns</p>\n",
       "</div>"
      ],
      "text/plain": [
       "   product_id                product_name  aisle_id  department_id  prices  \\\n",
       "0           1  Chocolate Sandwich Cookies        61             19     5.8   \n",
       "1           1  Chocolate Sandwich Cookies        61             19     5.8   \n",
       "2         907        Premium Sliced Bacon       106             12    20.0   \n",
       "3         907        Premium Sliced Bacon       106             12    20.0   \n",
       "4        1000                    Apricots        18             10    12.9   \n",
       "\n",
       "   order_id  user_id  order_number  orders_day_of_week  order_hour_of_day  \\\n",
       "0   3139998      138            28                   6                 11   \n",
       "1   1977647      138            30                   6                 17   \n",
       "2   3160996      138             1                   5                 13   \n",
       "3   2254091      138            10                   5                 14   \n",
       "4    505689      138             9                   6                 12   \n",
       "\n",
       "   ...      state  age  date_join dependents  married income    region  \\\n",
       "0  ...  Minnesota   81   8/1/2019          1  married  49620  Region_2   \n",
       "1  ...  Minnesota   81   8/1/2019          1  married  49620  Region_2   \n",
       "2  ...  Minnesota   81   8/1/2019          1  married  49620  Region_2   \n",
       "3  ...  Minnesota   81   8/1/2019          1  married  49620  Region_2   \n",
       "4  ...  Minnesota   81   8/1/2019          1  married  49620  Region_2   \n",
       "\n",
       "   activity_flag  income_flag sum_per_order  \n",
       "0  High-activity   Low income          34.9  \n",
       "1  High-activity   Low income          33.9  \n",
       "2  High-activity   Low income          78.8  \n",
       "3  High-activity   Low income          50.2  \n",
       "4  High-activity   Low income          40.9  \n",
       "\n",
       "[5 rows x 37 columns]"
      ]
     },
     "execution_count": 29,
     "metadata": {},
     "output_type": "execute_result"
    }
   ],
   "source": [
    "df_new.head()"
   ]
  },
  {
   "cell_type": "code",
   "execution_count": 30,
   "id": "e5b7f0ed",
   "metadata": {},
   "outputs": [
    {
     "data": {
      "text/plain": [
       "(30964564, 37)"
      ]
     },
     "execution_count": 30,
     "metadata": {},
     "output_type": "execute_result"
    }
   ],
   "source": [
    "df_new.shape"
   ]
  },
  {
   "cell_type": "code",
   "execution_count": 31,
   "id": "4ae49c0f",
   "metadata": {},
   "outputs": [
    {
     "name": "stdout",
     "output_type": "stream",
     "text": [
      "Start time: 14:26:58\n",
      "End time: 14:28:57\n"
     ]
    }
   ],
   "source": [
    "#Export the dataframe\n",
    "print ('Start time: ' + datetime.now().strftime(\"%H:%M:%S\"))\n",
    "df_new.to_pickle(os.path.join(path, 'Data','Prepared Data', 'ord_prod_dept.pkl'))\n",
    "print ('End time: ' + datetime.now().strftime(\"%H:%M:%S\"))"
   ]
  },
  {
   "cell_type": "markdown",
   "id": "68d3dfee",
   "metadata": {},
   "source": [
    "# End"
   ]
  }
 ],
 "metadata": {
  "kernelspec": {
   "display_name": "Python 3 (ipykernel)",
   "language": "python",
   "name": "python3"
  },
  "language_info": {
   "codemirror_mode": {
    "name": "ipython",
    "version": 3
   },
   "file_extension": ".py",
   "mimetype": "text/x-python",
   "name": "python",
   "nbconvert_exporter": "python",
   "pygments_lexer": "ipython3",
   "version": "3.11.5"
  }
 },
 "nbformat": 4,
 "nbformat_minor": 5
}
